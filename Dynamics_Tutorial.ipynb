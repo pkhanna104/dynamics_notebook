{
 "cells": [
  {
   "cell_type": "code",
   "execution_count": 1,
   "metadata": {
    "colab": {},
    "colab_type": "code",
    "id": "LaKClKxOWuKq"
   },
   "outputs": [],
   "source": [
    "import numpy as np\n",
    "import scipy.stats\n",
    "import scipy.fftpack\n",
    "import matplotlib.pyplot as plt\n",
    "from mpl_toolkits.mplot3d import Axes3D"
   ]
  },
  {
   "cell_type": "code",
   "execution_count": 2,
   "metadata": {
    "colab": {},
    "colab_type": "code",
    "id": "juQg7FDdHdGd"
   },
   "outputs": [],
   "source": [
    "%load_ext autoreload\n",
    "%autoreload 2"
   ]
  },
  {
   "cell_type": "code",
   "execution_count": 3,
   "metadata": {
    "colab": {},
    "colab_type": "code",
    "id": "aELmv5x9v8cy"
   },
   "outputs": [],
   "source": [
    "import lds_utils, seq_utils, display_widgets"
   ]
  },
  {
   "cell_type": "code",
   "execution_count": 4,
   "metadata": {},
   "outputs": [],
   "source": [
    "import ipywidgets as widgets\n",
    "from IPython.display import display,clear_output"
   ]
  },
  {
   "cell_type": "markdown",
   "metadata": {
    "colab_type": "text",
    "id": "fnkFOB4rVY26"
   },
   "source": [
    "# Introduction"
   ]
  },
  {
   "cell_type": "markdown",
   "metadata": {
    "colab_type": "text",
    "id": "_viJhi7yVa3z"
   },
   "source": [
    "The goal of this exercise is part tutorial in discrete linear dynamical systems, part exploration of low frequency oscillatory dynamics, a feature that is increasingly found in datasets recorded from motor cortical regions of the brain (e.g. Churchland 2012). The tutorial part covers basics of discrete linear dynamical systems (part I) and a review of how the parameters of a dynamics model can be analyzed and visualized to better understand what spatiotemporal patterns the model is producing (part II). The next part then covers how to use discrete linear dynamical systems in practice as a data analysis tool (part III). Finally, part IV extends part III but specifically investigates what sorts of spatiotemporal patterns in data may give rise to low-freuqency oscillatory dynamics that have been increasingly reported in motor cortical electrophysiology data. "
   ]
  },
  {
   "cell_type": "markdown",
   "metadata": {
    "colab_type": "text",
    "id": "3MttRyBRW8Bw"
   },
   "source": [
    "# Part I: Behavior of Discrete Linear Dynamical Systems\n",
    "In this part, we review analysis of discrete, linear dynamical systems and illustrate in 2D typical behaviors "
   ]
  },
  {
   "cell_type": "markdown",
   "metadata": {
    "colab_type": "text",
    "id": "broljB1SA-qW"
   },
   "source": [
    "Consider the system:  "
   ]
  },
  {
   "cell_type": "markdown",
   "metadata": {
    "colab_type": "text",
    "id": "MszbqU19Q2He"
   },
   "source": [
    "<center>$x_t = A x_{t-1}$ </center>"
   ]
  },
  {
   "cell_type": "markdown",
   "metadata": {
    "colab_type": "text",
    "id": "zm11W-zTQ4Kc"
   },
   "source": [
    "where $x_t$ is a 2x1 vector. In words, $A$ represents a linear transform, generating $x_t$ based only on the activity of $x_{t-1}$. Similarly, $x_{t-1} = A x_{t-2}$ and so $x_{t-1}$  is also generated from $x_{t-2}$ through the same linear transform $A$. By continuing to work backwards to solve for $x_t$, we arrive at the solution: "
   ]
  },
  {
   "cell_type": "markdown",
   "metadata": {
    "colab_type": "text",
    "id": "JkHdNX94Q7u2"
   },
   "source": [
    "<center>$x_t = A x_{t-1} = A (A x_{t-2}) = A(A(A x_{t-3})) = ... = A^t x_0$. </center>"
   ]
  },
  {
   "cell_type": "markdown",
   "metadata": {
    "colab_type": "text",
    "id": "8Tp5f8P9Q9-u"
   },
   "source": [
    "Thus, $x_t$ is just the result of an initial condition $x_0$ propagated forward in time $t$ times by linear transform $A$. Note that sometimes a slightly different form of this expression used: \n"
   ]
  },
  {
   "cell_type": "markdown",
   "metadata": {
    "colab_type": "text",
    "id": "mExltkRSMg2D"
   },
   "source": [
    "<center>$dx = x_{t} - x_{t-1} = Ax_{t-1}$</center>"
   ]
  },
  {
   "cell_type": "markdown",
   "metadata": {
    "colab_type": "text",
    "id": "ZvwFzI_n65ku"
   },
   "source": [
    "In fact we can re-write this equation in a similar form to the one we started with above: "
   ]
  },
  {
   "cell_type": "markdown",
   "metadata": {
    "colab_type": "text",
    "id": "TRI8KfOONDQg"
   },
   "source": [
    " <center>$x_{t} - x_{t-1} = Ax_{t-1}$</center>"
   ]
  },
  {
   "cell_type": "markdown",
   "metadata": {
    "colab_type": "text",
    "id": "k4LjKijWNJBu"
   },
   "source": [
    "<center>$x_t = Ax_{t-1} + x_{t-1} = (A+I)x_{t-1} = (A')x_{t-1}$</center>"
   ]
  },
  {
   "cell_type": "markdown",
   "metadata": {
    "colab_type": "text",
    "id": "FO8rvJ9DNaWY"
   },
   "source": [
    "where $A' = A+I$. So, what sort of trajectories through time can $A$ or $A'$ generate? Consider the following examples:"
   ]
  },
  {
   "cell_type": "code",
   "execution_count": 4,
   "metadata": {
    "scrolled": false
   },
   "outputs": [
    {
     "data": {
      "application/vnd.jupyter.widget-view+json": {
       "model_id": "2be08984b35646d797a360d3e10e130f",
       "version_major": 2,
       "version_minor": 0
      },
      "text/plain": [
       "HBox(children=(VBox(children=(Dropdown(description='A Matrix: ', layout=Layout(width='initial'), options=('Non…"
      ]
     },
     "metadata": {},
     "output_type": "display_data"
    }
   ],
   "source": [
    "#### This displays a widget with 5 diffrent A matrix options### \n",
    "### Step 1) Select an A matrix from the dropdown menu ####\n",
    "### Step 2) Initialize some initial conditions on the graph (can slide the \"initial_x0\" \n",
    "###      slider and click \"Run Interact\" many times to initialize many points)\n",
    "### Step 3) Select how many time steps you'd like to propagate the initial conditions ahead \n",
    "###      with the \"num_timepoints\" slider. Then click \"Run Interact\"\n",
    "### Can \"clear\" the graph at the bottom to try out a new A matrix \n",
    "box = display_widgets.interative_viewer_Amatrix_plot()\n",
    "box.assemble_box()\n",
    "display(box.box)"
   ]
  },
  {
   "cell_type": "markdown",
   "metadata": {
    "colab_type": "text",
    "id": "H5UMW3u7L1kB"
   },
   "source": [
    "In the five examples, the dark bluepurple points are the $x_0$ conditions, and the green and yellow points are the $x_0$ conditions that have been propagated in time by $A$. These five examples exemplify A1) a sink, A2) an explosion A3) an inward spiral, A4) an outward spiral, and A5) a saddle. Broadly, these characterize the most common types of behavior that are observed given an $A$ matrix. We split these examples in two categories; a) **stable vs. unstable**, and b) **oscillatory vs. non-oscillatory**. In the above examples, example 1 and 3 exhibit stable behavior (not exploding), and examples 2 and 4 exhibit unstable behavior (exploding). Example 5 has one unstable and one stable direction. Examples 1,  2, and 5 exhibit non-oscillatory behavior, while examples 3 and 4 exhibit oscillatory behavior. "
   ]
  },
  {
   "cell_type": "markdown",
   "metadata": {
    "colab_type": "text",
    "id": "OVJlxLaLMkYz"
   },
   "source": [
    "While these plots are easy to make in 2D, sometimes we want to analyze the behavior of higher dimensional datasets which are hard to make and look at, and second may be composed of many different types of behaviors (i.e mixes of the above examples). How can we figure out what the dominant behavior of an NxN A matrix is without having to make tons of subplots and try to imagine high dimensional space?  "
   ]
  },
  {
   "cell_type": "markdown",
   "metadata": {
    "colab_type": "text",
    "id": "IahHicPcUTR_"
   },
   "source": [
    "# Part II: Analyzing $A$ to infer dynamical behavior"
   ]
  },
  {
   "cell_type": "markdown",
   "metadata": {
    "colab_type": "text",
    "id": "KxH3ixDmNBLZ"
   },
   "source": [
    "Turns out that we can decompose the A matrix in a way that gives insight into the computations it performs. I won't review the concept of eigenvalues and eigenvectors here, but it is necessary to understand the next steps. Here is a great refresher: https://www.youtube.com/watch?v=PFDu9oVAE-g"
   ]
  },
  {
   "cell_type": "markdown",
   "metadata": {
    "colab_type": "text",
    "id": "NGlDe4evPxRy"
   },
   "source": [
    "So let's return to the solution for $x_t$: \n",
    "$x_t = A^t x_0$. Unless $A$ is the identity matrix or a zero matrix, presently its unclear what we should expect $A^t$ to do to $x_0$. In order to make this more clear, we'll decompose $A$. "
   ]
  },
  {
   "cell_type": "markdown",
   "metadata": {
    "colab_type": "text",
    "id": "80glMwGuRAui"
   },
   "source": [
    "Let's assume that $A$ is a simple matrix $\\in \\mathbb{R}^{nxn}$, and so we can decompose it into $n$ distinct and linearly independent eigenvectors ($v_i \\in \\mathbb{C}^n, i = 1...n$) and respective non-zero eigenvalues ($\\lambda_i \\in \\mathbb{C}^1, i = 1...n$). For each eigenvector and eigenvalue, we can write: "
   ]
  },
  {
   "cell_type": "markdown",
   "metadata": {
    "colab_type": "text",
    "id": "T-Mcm4MyRsra"
   },
   "source": [
    "<center> $ A v_i = \\lambda_i v_i$ for all $i = 1...n$</center> "
   ]
  },
  {
   "cell_type": "markdown",
   "metadata": {
    "colab_type": "text",
    "id": "D5FmM4COR1Ve"
   },
   "source": [
    "Here, $v_i$ is an $ n x 1 $ vector. We can write $v_i$ as a column and horizontally stack up all the $v_i s$ to a large matrix we'll call $T$. Then we can also place the $\\lambda_i$s on the diagonal of a matrix $\\Lambda$.  This is written as: "
   ]
  },
  {
   "cell_type": "markdown",
   "metadata": {
    "colab_type": "text",
    "id": "1Ij7KJAoR_VL"
   },
   "source": [
    "<center> $ A \\begin{bmatrix} v_1 & v_2 & ... & v_n \\end{bmatrix} = \\begin{bmatrix} v_1 & v_2 & ... & v_n \\end{bmatrix}\\begin{bmatrix} \\lambda_1 & 0 & ... & 0 \\\\ 0 & \\lambda_2 & ... & 0 \\\\ \\vdots & \\vdots & \\ddots & \\vdots \\\\ 0 & 0 & \\ldots & \\lambda_n \\end{bmatrix}$</center> "
   ]
  },
  {
   "cell_type": "markdown",
   "metadata": {
    "colab_type": "text",
    "id": "-lg8ud3SS6EY"
   },
   "source": [
    "Or more simply as: "
   ]
  },
  {
   "cell_type": "markdown",
   "metadata": {
    "colab_type": "text",
    "id": "hrZw_smPS8S-"
   },
   "source": [
    "<center> $A T = T \\Lambda $</center> "
   ]
  },
  {
   "cell_type": "markdown",
   "metadata": {
    "colab_type": "text",
    "id": "eZvGEDPoTCe9"
   },
   "source": [
    "Since we assumed that $A$ was decomposible into $n$ linearly independent eigenvectors with non-zero eigenvalues, that's all we need to know to confirm that $T$ is an invertible matrix. We can then write: "
   ]
  },
  {
   "cell_type": "markdown",
   "metadata": {
    "colab_type": "text",
    "id": "qx4mZvahUIYu"
   },
   "source": [
    "<center> $ A = T \\Lambda T^{-1}$</center> "
   ]
  },
  {
   "cell_type": "markdown",
   "metadata": {
    "colab_type": "text",
    "id": "VrTYdeViUqx7"
   },
   "source": [
    "Why is this useful? If we return to the solution $x_t = A^t x_0$, its hard to imagine what $A^t$ would look like without actually multiplying out $A$ all $t$ times. However, if replacing $A$ with $ T \\Lambda T^{-1}$, makes the solution start to look more understandable: "
   ]
  },
  {
   "cell_type": "markdown",
   "metadata": {
    "colab_type": "text",
    "id": "Rm_5ei8YVMM8"
   },
   "source": [
    "<center> $x_t = A^t x_0$</center> "
   ]
  },
  {
   "cell_type": "markdown",
   "metadata": {
    "colab_type": "text",
    "id": "bf9yvCkxVe0Q"
   },
   "source": [
    "<center> $x_t = ( T \\Lambda T^{-1})^t x_0 $</center> "
   ]
  },
  {
   "cell_type": "markdown",
   "metadata": {
    "colab_type": "text",
    "id": "-vJqFPgFVgnA"
   },
   "source": [
    "<center> $x_t = ( T \\Lambda T^{-1}) ( T \\Lambda T^{-1}) ... ( T \\Lambda T^{-1}) x_0$</center> "
   ]
  },
  {
   "cell_type": "markdown",
   "metadata": {
    "colab_type": "text",
    "id": "_O4lHMPgVmgT"
   },
   "source": [
    "<center> $x_t =  T \\Lambda T^{-1}  T \\Lambda T^{-1}  ...  T \\Lambda T^{-1}  x_0$</center> "
   ]
  },
  {
   "cell_type": "markdown",
   "metadata": {
    "colab_type": "text",
    "id": "B6sOJGc7ViTk"
   },
   "source": [
    "Now, if we look closely, we see that there a number of $T^{-1}T $s that would evaluate to the identity matrix. If we remove all the $T^{-1}T$s, we're left with:"
   ]
  },
  {
   "cell_type": "markdown",
   "metadata": {
    "colab_type": "text",
    "id": "FoHbzCR8Vz6t"
   },
   "source": [
    "<center> $x_t = T \\Lambda \\Lambda ... \\Lambda T^{-1}  x_0$</center> "
   ]
  },
  {
   "cell_type": "markdown",
   "metadata": {
    "colab_type": "text",
    "id": "wO3rdXooV4G0"
   },
   "source": [
    "<center> $x_t = T\\Lambda^t T^{-1} x_0$</center> "
   ]
  },
  {
   "cell_type": "markdown",
   "metadata": {
    "colab_type": "text",
    "id": "pAU7XQYqV7jv"
   },
   "source": [
    "We can make this even easier to understand if we multipy both sides by $T^{-1} $ and define a new variable $z = T^{-1} x$ which is just a linear transform of $x$. Now, instead of studying the effects of $A$ operating on $x$, we can now think of $\\Lambda$ operating on $z$. This particular linear transformation will make it easier for us to \"see\" what sorts of dynamical behavior $A$ generates. "
   ]
  },
  {
   "cell_type": "markdown",
   "metadata": {
    "colab_type": "text",
    "id": "zVnrdPZmWHhB"
   },
   "source": [
    "<center> $T^{-1} x_t = T^{-1} T \\Lambda^t T^{-1}  x_0$</center> "
   ]
  },
  {
   "cell_type": "markdown",
   "metadata": {
    "colab_type": "text",
    "id": "RtBiBIBkWKGf"
   },
   "source": [
    "<center> $T^{-1} x_t = \\Lambda^t T^{-1}  x_0$</center> "
   ]
  },
  {
   "cell_type": "markdown",
   "metadata": {
    "colab_type": "text",
    "id": "LCXgeCkBWLzk"
   },
   "source": [
    "<center>$z_t = \\Lambda^t z_0$ after substituting $z = T^{-1} x$</center>"
   ]
  },
  {
   "cell_type": "markdown",
   "metadata": {
    "colab_type": "text",
    "id": "0FWK9GgbWftX"
   },
   "source": [
    "<center> $z_t = \\begin{bmatrix} \\lambda_1 & 0 & ... & 0 \\\\ 0 & \\lambda_2 & ... & 0 \\\\ \\vdots & \\vdots & \\ddots & \\vdots \\\\ 0 & 0 & \\ldots & \\lambda_n \\end{bmatrix} ^{ t } z_0$</center> "
   ]
  },
  {
   "cell_type": "markdown",
   "metadata": {
    "colab_type": "text",
    "id": "oZcoVt1EWlIo"
   },
   "source": [
    "<center> $z_t = \\begin{bmatrix} \\lambda_1^t & 0 & ... & 0 \\\\ 0 & \\lambda_2^t & ... & 0 \\\\ \\vdots & \\vdots & \\ddots & \\vdots \\\\ 0 & 0 & \\ldots & \\lambda_n^t \\end{bmatrix} z_0$</center> "
   ]
  },
  {
   "cell_type": "markdown",
   "metadata": {
    "colab_type": "text",
    "id": "A-fUzPurWPNT"
   },
   "source": [
    "Now, this is something we can analyze easily! With an eigenvalue decomposition of A followed by a change of variable, we've ended up with a new dynamics matrix $\\Lambda$ operating on variable $z$ such that each dimension of $z$ is only ever influenced by itself. In other words, all the dimensions aren't mixed together as they may have been if we looked at the A matrix operating on $x$. If we consider just a single dimension, $z^i$, we can now write: "
   ]
  },
  {
   "cell_type": "markdown",
   "metadata": {
    "colab_type": "text",
    "id": "VQHlZG_IXT67"
   },
   "source": [
    "<center> $z_t^i = \\lambda_i^t z^i_0$</center> "
   ]
  },
  {
   "cell_type": "markdown",
   "metadata": {
    "colab_type": "text",
    "id": "vK_LaGVLXjMg"
   },
   "source": [
    "A final manipulation allows us to analyze the effects of $\\lambda_i^t$. Since $\\lambda_i$ may be a complex number, $\\lambda_i = a_i + b_i i$ (if real, then $b_i$ = 0), we can re-write $\\lambda_i = r_i e^{\\theta_i i}$ where $r_i = \\sqrt{(a_i^2 + b_i^2 )}$ and $\\theta_i = tan^{-1} (\\frac{b}{a})$"
   ]
  },
  {
   "cell_type": "markdown",
   "metadata": {
    "colab_type": "text",
    "id": "NEpbXOh9YH1Z"
   },
   "source": [
    "<center> $z_t^i = (r_i e^{\\theta_i i})^t z_0$ </center> "
   ]
  },
  {
   "cell_type": "markdown",
   "metadata": {
    "colab_type": "text",
    "id": "ZbcE4REPYWCg"
   },
   "source": [
    "<center> $z_t^i = (r_i^t e^{\\theta_i i t}) z_0$</center> "
   ]
  },
  {
   "cell_type": "markdown",
   "metadata": {
    "colab_type": "text",
    "id": "cwQMOJw4Yn1q"
   },
   "source": [
    "<center> $z_t^i = (r_i^t [ cos(\\theta_i t) + i sin(\\theta_i t) ] ) z_0$</center> "
   ]
  },
  {
   "cell_type": "markdown",
   "metadata": {
    "colab_type": "text",
    "id": "vZzE_bRyY-9e"
   },
   "source": [
    "This expression indicates that $z_t^i$ will exponentially grow or decay over time (dictated by the $r_i$ value), and will oscillate at a frequency dictated by the $\\theta_i$ value. Thus the behavior of the $z_i$ dimension is fully defined by the magnitude ($r_i$) and angle ($\\theta_i$) of the eigenvalue ($\\lambda_i$). With each step of $t, r_i^t$ will decay if $ r_i < 1$, or will explode if $ r_i > 1$. Thus, we call $\\lambda_i$ **stable** for $r_i \\leq 1$, and $\\lambda_i$ **unstable** for $r_i > 1$. For stable $r_i$, the **decay time** associated with $\\lambda_i$ is typically computed as the amount of time needed for $r_i^t$ to decay from $1$ at $t = 0$ to $\\frac{1}{e}$. This ends up being **decay time** = $-\\frac{1}{ln(r_i)} * dt$"
   ]
  },
  {
   "cell_type": "markdown",
   "metadata": {
    "colab_type": "text",
    "id": "gZinSsq2cQYf"
   },
   "source": [
    "Next, we can determine if $\\lambda_i$ is **non-oscillatory** if $\\theta_i = 0$, or that $\\lambda_i$ is **oscillatory** if $\\theta_i \\neq 0$. Further, if $\\lambda_i$ is oscillatory, $\\theta_i$ corresponds to radians / timestep completed. This can be converted to **frequency** in Hz by dividing by $2\\pi$ and then dividing by the length of each timestep in units of seconds. "
   ]
  },
  {
   "cell_type": "markdown",
   "metadata": {
    "colab_type": "text",
    "id": "oOahWuI9dn-s"
   },
   "source": [
    "In conclusion, we can determine the behavior of a dynamics matrix $A$ by just looking at a plot of all eigenvalues plotted on axes of **time decay** vs. **oscillation frequency**. Let's try out these plots for the above A matrices: "
   ]
  },
  {
   "cell_type": "code",
   "execution_count": 5,
   "metadata": {
    "colab": {
     "base_uri": "https://localhost:8080/",
     "height": 1000
    },
    "colab_type": "code",
    "id": "i7WzNnCiV6t9",
    "outputId": "373dd394-3793-485c-e27b-0dded7f7d634",
    "scrolled": false
   },
   "outputs": [
    {
     "data": {
      "application/vnd.jupyter.widget-view+json": {
       "model_id": "031188e7c7bf47a183c181f3be91f961",
       "version_major": 2,
       "version_minor": 0
      },
      "text/plain": [
       "HBox(children=(VBox(children=(Dropdown(description='A Matrix: ', layout=Layout(width='initial'), options=('Non…"
      ]
     },
     "metadata": {},
     "output_type": "display_data"
    }
   ],
   "source": [
    "### Same widget instructions as above, but here pay attention to the eigenvalue plot on the bottom right\n",
    "box = display_widgets.interactive_viewer_Amat_pls_eigs()\n",
    "box.assemble_box()\n",
    "display(box.box)"
   ]
  },
  {
   "cell_type": "markdown",
   "metadata": {
    "colab_type": "text",
    "id": "jO7INayeV7IN"
   },
   "source": [
    "A few things to note about the above plots: a) when there are unstable eigenvalues (i.e  A2, A4, and part of A5), the time-decay values are negative and aren't interpretable, and b) when there is an oscillatory eigenvalue (i.e. examples 3, 4) both eigenvalues have the same time decay but opposite signs for oscillation frequency. This is expected -- oscillatory behavior requires two dimensions, and so eigenvalues corresponding to oscillatory modes come as a pair of complex conjugates ($a+bi, a-bi$) yielding $\\theta$ and $-\\theta$. "
   ]
  },
  {
   "cell_type": "markdown",
   "metadata": {
    "colab_type": "text",
    "id": "meKZ7rDSi6E7"
   },
   "source": [
    "To get more intuition for how the eigenvalues capture dynamical behavior, we'll analyze a common type of A matrix --  rotation matrices. Rotation matrices in 2D are defined as $\\begin{bmatrix} cos(\\theta) & -sin(\\theta) \\\\ sin(\\theta) & cos(\\theta) \\end{bmatrix}$, where $\\theta$ is the degrees that the rotation matrix rotates points. We can consider $\\theta$ a frequency if we consider a single point multiplied by the rotatio matrix once as a rotation of $\\theta$ degrees per timestep. Converting degrees to cycles and timesteps to seconds yields a frequency. Below, see how 2D rotation matrices of varying frequencies can be analyzed through their eigenvalues: "
   ]
  },
  {
   "cell_type": "code",
   "execution_count": 13,
   "metadata": {
    "colab": {
     "base_uri": "https://localhost:8080/",
     "height": 1000
    },
    "colab_type": "code",
    "id": "vNXdbjl4PMSj",
    "outputId": "f13b0072-740b-416a-a49d-f79d6bb79cac",
    "scrolled": false
   },
   "outputs": [
    {
     "data": {
      "application/vnd.jupyter.widget-view+json": {
       "model_id": "dc048b2e40c244a483c3327af1a495a1",
       "version_major": 2,
       "version_minor": 0
      },
      "text/plain": [
       "HBox(children=(VBox(children=(interactive(children=(IntSlider(value=1, description='rot_freq', max=20, min=1),…"
      ]
     },
     "metadata": {},
     "output_type": "display_data"
    }
   ],
   "source": [
    "#### Rotation matrices \n",
    "### Step 1: choose a rotation frequency and select \"run interact\"\n",
    "### Step 2: observe the relationship between the rotation frequency you select and the computed eigenvalue\n",
    "### Other parts of the widget are identical to above. \n",
    "### Note that for faster frequencies it may be easier to visualize just 1 initial x_0 over many timesteps; \n",
    "box = display_widgets.rotator()\n",
    "box.assemble_box()\n",
    "display(box.box)"
   ]
  },
  {
   "cell_type": "markdown",
   "metadata": {
    "colab_type": "text",
    "id": "HKxbQkR1odIb"
   },
   "source": [
    "# Part III: Fitting $A$ to observed datasets, and visualizing top dynamical dimensions of $A$"
   ]
  },
  {
   "cell_type": "markdown",
   "metadata": {
    "colab_type": "text",
    "id": "JCgm5q_0VzmR"
   },
   "source": [
    "In the above examples, we generated 2D data according to a given $A$ matrix and initial condition $x_0$. All data we created was perfectly adherent to $A$, without any external influences. Now, we're going to consider the opposite case where instead of having $A$ and using it to generate data, we have lots of higher dimensional data, and we try to estimate $A$ and then analyze $A$ to tell us something about the dynamics of our data. \n",
    "\n",
    "\n",
    "We will generate some fake data, then fit an $A$ matrix to the data, quantify how well this $A$ matrix fits the data, and then plot the eigenspectrum. Note that going forward we will only concern ourselves with **stable** systems. "
   ]
  },
  {
   "cell_type": "code",
   "execution_count": 18,
   "metadata": {
    "colab": {
     "base_uri": "https://localhost:8080/",
     "height": 585
    },
    "colab_type": "code",
    "id": "cvz3dIzMoswa",
    "outputId": "6286d125-3563-4a80-a1dc-20222ddbb65f"
   },
   "outputs": [
    {
     "data": {
      "application/vnd.jupyter.widget-view+json": {
       "model_id": "64df89aac19d410d86a34ab171525fa7",
       "version_major": 2,
       "version_minor": 0
      },
      "text/plain": [
       "VBox(children=(HBox(children=(interactive(children=(IntSlider(value=1, description='f1', layout=Layout(width='…"
      ]
     },
     "metadata": {},
     "output_type": "display_data"
    }
   ],
   "source": [
    "## Generate fake data with this gui\n",
    "## STEP 1: Adjust the sliders for f1,f2,f3 (frequencies used to generate the fake data) and \n",
    "##     click \"interact manual\" to update the plot of the data + eigenvalue spectrum; Can also\n",
    "##     adjust the 'noise' to add more or less noise to the fake data. \n",
    "## STEP 2: Use the ymax slider to change the height of the yaxis -- will update automatically\n",
    "box = display_widgets.fake_data_maker()\n",
    "box.assemble_box()\n",
    "display(box.box)\n",
    "\n",
    "### Pay attention to how the frequencies (f1, f2, f3) show up in the data and the eigenvalues \n",
    "### Also notice how adding noise changes the R2 of the model, and influences the estimated \"time decay\" values of the \n",
    "### eigenvalues; "
   ]
  },
  {
   "cell_type": "markdown",
   "metadata": {
    "colab_type": "text",
    "id": "m9spG_4nd1tH"
   },
   "source": [
    "Some notes about the above simulation: \n",
    "* To estimate an A matrix from data we can do a simple least squares multiple linear regression where  $x_{t-1}$ predicts $x_t$\n",
    "* If the dimesionality of X is high, it can be challenging to fit A, since need to estimate $N^2$ entries. Methods for improving robust fits of A include ridge regression, dynamic mode decomposition (Tu, 2012), using least squares for sparse matrices, and others. \n",
    "* $R^2$ printed above indicates the \"variance accounted for\" by the model, or how much of $x_t$ does $x_{t-1}$ account for. Notice that when more noise is added to the model, the $R^2$ reduces because the A matrix is not able to capture as much of $x_{t}$.\n",
    "* We can see above that the main frequencies $f_1, f_2, f_3$ that we put into the fake data are being captured by $A$, based on the eigenvalues of $A$.\n",
    "* There are also a few non-oscillatory components (centered at zero). \n",
    "* It is good to remember that in this dataset, the timestep $dt$ is 0.01 sec, or 10 ms. Thus, any decays calculated to be less than 10ms are not making substantial predictions since they exhibit time decays faster than the passage of a single bin. \n",
    "* A key idea is that the eigenvalues with the longest time decays are the ones with properties that are most present in the data. The dynamics associated with eigenvalues with very short time decays are not strongly present in the data. \n",
    "\n",
    "We're now going to focus on visualizing the dynamics using a flow field representation. For a review on how to do this: https://www.youtube.com/watch?v=qlUr2Jc5O0g\n",
    "\n",
    "The widget below is identical to the one above, but now with an extra set of plots on the bottom. These plots are called flow fields, and are a visual illustration of the dynamics that the eigenvalues are capturing. The flow fields plot variable $z_i $ vs. $z_j$. Remember that $z$ is just a linear transform of $x$, so you can think of these 2D plots as planes slicing through high dimensional space. Each arrow on the flow field plot illustrates a prediction for $z_{i,j}(t)$ given that $z_{i,j}(t-1)$ is at the particular point at the start of the arrow. These plots allow us to visualize what the $A$ matrix predicts for points falling on a particular plane. The length and color of the arrow corresponds to the magnitude of the change in $z$ that $A$ predicts. \n",
    "\n",
    "You can adjust the dimensions that are plotted against each other using the \"dim\" sliders. Plotting dimensions that have the same frequency (e.g. 10 Hz and -10 Hz) will show you a plane where the arrows will illustrate rotations. You can also adjust \"cmax\" for each plot, to adjust the max value of the colorbar. If the plot is mostly yellow, you'll want to increase cmax, whereas if its mostly blue, you'll want to decrease cmax. \n",
    "\n",
    "The black lines on the flow field pltos plot the first 1 second of simulated data. The red dot marks the start of the data. Notice which dimensions seem to capture the changes in data the best. "
   ]
  },
  {
   "cell_type": "code",
   "execution_count": 25,
   "metadata": {
    "scrolled": false
   },
   "outputs": [
    {
     "data": {
      "application/vnd.jupyter.widget-view+json": {
       "model_id": "0a37b539683c4736b859efd999abc9a4",
       "version_major": 2,
       "version_minor": 0
      },
      "text/plain": [
       "VBox(children=(HBox(children=(interactive(children=(IntSlider(value=1, description='f1', layout=Layout(width='…"
      ]
     },
     "metadata": {},
     "output_type": "display_data"
    }
   ],
   "source": [
    "### STEP 1: as above, generate some data using the f1, f2, f3, and noise sliders. \n",
    "### STEP 2: on the plots below, you'll notice \"flow fields appear\". \n",
    "###     These are plots of variable z_i vs. z_j \n",
    "### STEP 3: Adjust the dim sliders to plot different dimensions against one another, and \n",
    "###    the cmax sliders to adjust the color of the arrows. \n",
    "\n",
    "### Notice that some pairs will look like oscillations, some will show only decays ###\n",
    "### Remember that python uses 'zero-indexing' \n",
    "\n",
    "### The title of the plot will tell you the time decay and frequency of oscillation of each of the eigenvalues\n",
    "### associated with the dimensions you are plotting. Notice that their properties \n",
    "### match the eigenvalue plot above \n",
    "\n",
    "box = display_widgets.fake_data_flows()\n",
    "box.assemble_box()\n",
    "display(box.box)"
   ]
  },
  {
   "cell_type": "markdown",
   "metadata": {
    "colab_type": "text",
    "id": "_bz14_I8owu5"
   },
   "source": [
    "# Part IV: Spatiotemporal Patterns With Rotational Dynamics"
   ]
  },
  {
   "cell_type": "markdown",
   "metadata": {
    "colab_type": "text",
    "id": "GseceVYDAT5O"
   },
   "source": [
    "Now that we have the tools to analyze a linear dynamics matrix $A$ and to visualize the dominant modes of the dynamics capture by $A$, we now turn to exploring how low frequency rotational dynamics may emerge from spatiotemporal patterns of neural activity. Recent work has highlighted that neural activity patterns in motor cortical areas exhibit rotational dynamics in the range of 1-4 Hz (Churchland 2012, Hall 2014, Sussillo 2015). We examine a few types of spatiotemporal structure can give rise to oscillatory dynamics in this range. "
   ]
  },
  {
   "cell_type": "markdown",
   "metadata": {
    "colab_type": "text",
    "id": "jW_hk2XJfGpf"
   },
   "source": [
    "First, we consider the simplest case -- neurons oscillating at the specified low frequency"
   ]
  },
  {
   "cell_type": "markdown",
   "metadata": {},
   "source": [
    "# Case I: Sinusoids"
   ]
  },
  {
   "cell_type": "markdown",
   "metadata": {},
   "source": [
    "In the example below choose a frequency and number of neurons (in this section we refer to dimensions as \"neurons\") and then slide through the different ```t_offset``` conditions (value of ```t_offset``` is in seconds) for that frequency. For each condition, an $A$ matrix is fit and the corresponding eigenvalues are plotted. See how different temporal offsets influence the frequency of the eigenvalues. See what happens for 4 neurons oscillating at 5 Hz with a 0.1 sec offset, for example. "
   ]
  },
  {
   "cell_type": "code",
   "execution_count": 29,
   "metadata": {
    "colab": {},
    "colab_type": "code",
    "id": "117ZbISBieOq"
   },
   "outputs": [
    {
     "data": {
      "application/vnd.jupyter.widget-view+json": {
       "model_id": "2bdb3ed0440442b193f0c5ad0599edec",
       "version_major": 2,
       "version_minor": 0
      },
      "text/plain": [
       "VBox(children=(HBox(children=(interactive(children=(IntSlider(value=1, description='freq', layout=Layout(width…"
      ]
     },
     "metadata": {},
     "output_type": "display_data"
    }
   ],
   "source": [
    "box = display_widgets.sinuoids()\n",
    "box.assemble_box()\n",
    "display(box.box)"
   ]
  },
  {
   "cell_type": "markdown",
   "metadata": {
    "colab_type": "text",
    "id": "inNoEr5_isrU"
   },
   "source": [
    "You can see from the above example, that as long as there is a non-zero ```t_offset``` between each neuron (that is not a multiple of half the cycle time), and sufficiently low noise, the $A$ matrix recovers the frequency that each neuron is oscillating at. In the case of 5 Hz and 0.1 offset, each neuron ends up having the same waveform as the first neuron either multiplied by 1 or -1, so this is also prevents the $A$ matrix from recovering frequency information. "
   ]
  },
  {
   "cell_type": "markdown",
   "metadata": {
    "colab_type": "text",
    "id": "dTpt3sCmeG6e"
   },
   "source": [
    "This is the most obvious structure giving rise to rotational dynamics -- sinusoidal firing patterns. However it is unusual to observe this type of oscillating neural activity in motor regions of the brain. A structure that is more commonly found are neurons that have monophasic or multiphasic patterns that are activated at preferred times during the behiavior -- what we loosely term \"sequential activity\". Below we explore how sequential activity may exhibit rotational dynamics as well."
   ]
  },
  {
   "cell_type": "markdown",
   "metadata": {
    "colab_type": "text",
    "id": "TiTgQGYckXEq"
   },
   "source": [
    "# Case 2: Sequential Activity"
   ]
  },
  {
   "cell_type": "markdown",
   "metadata": {
    "colab_type": "text",
    "id": "gO6xZO4kXeG2"
   },
   "source": [
    "Below we'll generate a sequence. We'll first consider the simple 2D case where each neuron exhibits a single \"bump\" at a slight time offset to one another. The single neuron activation is composed of a sine wave (frequency dictated by ```freq```) multiplied by a gaussian (standard deviation of the gaussian corresponds to the time needed for half a cycle to transpire ). ```t_offset``` determines the offset time (seconds) between individual neurons in the sequence."
   ]
  },
  {
   "cell_type": "markdown",
   "metadata": {},
   "source": [
    "## 2 neuron case: "
   ]
  },
  {
   "cell_type": "markdown",
   "metadata": {},
   "source": [
    "For the example below, the widget is constrained only produce 2 neurons. Set the frequency and noise level, and sweep through the ```t_offset``` and pay attention to how frequency of the eigenvalues change. Also observe the neural space plot in the middle that shows the 2D neural space and the trajectories through space that the neurons are tracing out. Starting with 2 hz and noise = 0.0 is a good place to start:  "
   ]
  },
  {
   "cell_type": "code",
   "execution_count": 30,
   "metadata": {
    "colab": {
     "base_uri": "https://localhost:8080/",
     "height": 282
    },
    "colab_type": "code",
    "id": "j-GLyFSao2XI",
    "outputId": "8609770e-834e-43e0-95a2-e41915cd96ab"
   },
   "outputs": [
    {
     "data": {
      "application/vnd.jupyter.widget-view+json": {
       "model_id": "781127c7632e41c5a2c482e8085487b6",
       "version_major": 2,
       "version_minor": 0
      },
      "text/plain": [
       "VBox(children=(HBox(children=(interactive(children=(IntSlider(value=2, description='freq', layout=Layout(width…"
      ]
     },
     "metadata": {},
     "output_type": "display_data"
    }
   ],
   "source": [
    "box = display_widgets.mono_sequ2()\n",
    "box.assemble_box()\n",
    "display(box.box)"
   ]
  },
  {
   "cell_type": "markdown",
   "metadata": {
    "colab_type": "text",
    "id": "w-FlvTLMYm-G"
   },
   "source": [
    "From the above examples you should be able to see that when the temporal offsets start to become larger and larger, the frequency of rotation found by the eigenvalues becomes lower than the frequency you set with the ```freq``` slider. Remember that the 2 x 2 $A$ matrix only has one 1 eigenvalue pair it can use to fit the data.  \n",
    "\n",
    "Place the ```freq = 2```, ```t_offset = 0.12```, and ```noise = 0.05```. With long ```t_offset``` values, there are large regions of the signals (at the beginning and the end) when only one neuron is active. In this scenario the neural trajectory (plotted in the middle plot) does not abide the same dynamics as it does when both neurons are active in the middle of the sequence. The dynamics of these beginning and ending sections either decay towards the origin (in the beginning of the sequence -- can think of as 9 o'clock --> center), or away from the origin (at the end of the sequence -- can think of center --> 6 o'clock). Either way, instead of rotating counter-clockwise as the rest of the trajectory does, these trajectories seemingly resist the rotation. Their effect forces $A$ to lower the frequency estimate to try to fit both types of dynamics. "
   ]
  },
  {
   "cell_type": "markdown",
   "metadata": {},
   "source": [
    "Below, we'll explore how the ```t_offset``` parameter influences the frequency of the eigenvalues in the 2D case. This code snippet will also directly show you how the $A$ matrix is computed from data, and how the eigenvalue frequencies and time decays are computed. Evaluate the below function, and then use it visualize the effect of different ```t_offset``` on the resultant eigenvalue frequency. "
   ]
  },
  {
   "cell_type": "code",
   "execution_count": 31,
   "metadata": {
    "scrolled": false
   },
   "outputs": [],
   "source": [
    "def plot_freq_as_fcn_dt(num_cycles_single_activation = 0.5):\n",
    "    ### INPUT: num_cycles_single_activation = Set the standard deviation of the \n",
    "    ### gaussian convolved with the sinusoid in units of \"fraction of cycles\" \n",
    "    ### of the sinuoid. This parameter controls whether individual neural \n",
    "    ### activations are monophasic or multiphasic: \n",
    "    \n",
    "    ### Main parameters to sweep ###\n",
    "    N_neurons = 2 \n",
    "    noise_level = 0.01\n",
    "\n",
    "    ### timestep \n",
    "    dt = 0.001\n",
    "    ## Generate plot / colors\n",
    "    f, ax = plt.subplots(figsize=(8, 8))\n",
    "    cols = plt.cm.viridis(np.linspace(0., 1, 11))\n",
    "\n",
    "    ### Sweep through differnet underlying fundamental frequencies; \n",
    "    for freq in np.arange(1, 11, 1):\n",
    "\n",
    "        ### Containers for mean frequency / sequence length ###\n",
    "        mn_f = [];\n",
    "        seq_cycle = []; \n",
    "\n",
    "        # Gaussian is set to half cycle, just like above: \n",
    "        gauss = num_cycles_single_activation/(freq)\n",
    "\n",
    "        ### Set the time offsets as a function of frequency to make sure there's enough overlap\n",
    "        quarter_cycle_time = (1/freq)*0.25\n",
    "        fiftyth_cycle_time = (1/freq)*.1\n",
    "        dt_offset = np.linspace(quarter_cycle_time, fiftyth_cycle_time, 100)\n",
    "\n",
    "        ### For each DT ###\n",
    "        for i_off, dt_off in enumerate(dt_offset):\n",
    "\n",
    "            ### Get sequence data\n",
    "            data = seq_utils.generate_seq(freq, gauss, dt_off, N_neurons=N_neurons, dt=dt)\n",
    "\n",
    "            ### Add some noise \n",
    "            dT, dN = data.shape\n",
    "            data_pls_noise = data + noise_level*np.random.randn(dT, dN)\n",
    "\n",
    "            ### Estimate the A matrix \n",
    "            Aest = np.linalg.lstsq(data_pls_noise[:-1, :], data_pls_noise[1:, :], rcond=None)[0] \n",
    "            Aest = Aest.T\n",
    "\n",
    "            ### Get the eigenvalue \n",
    "            ev, _ = np.linalg.eig(Aest)\n",
    "\n",
    "            ### Get the freuqencies / time delays ###\n",
    "            frequencies = np.angle(ev)/(2*np.pi*dt)\n",
    "            time_decay = -1/np.log(np.abs(ev))*dt\n",
    "\n",
    "            ### Get the positive frequencies ###\n",
    "            ix_nonneg = np.nonzero(frequencies > 0)[0]\n",
    "\n",
    "            if len(ix_nonneg) == 0:\n",
    "                mn_f.append(np.nan)\n",
    "            else:\n",
    "                ### weighted average based on time decay ###\n",
    "                mn_f.append(frequencies[ix_nonneg[0]])\n",
    "\n",
    "            ### seq length ###\n",
    "            seq_cycle.append(1./(dT*dt))\n",
    "\n",
    "        ### Plot curve \n",
    "        ax.plot(seq_cycle, mn_f, '.', label='Freq %.1f Hz' %(freq), color = cols[int(freq)])\n",
    "\n",
    "    ax.set_xlabel(' 1 / (Sequence Duration, sec.)')\n",
    "    ax.set_ylabel('Eigenvalue Frequency (Hz)')\n",
    "    f.legend()"
   ]
  },
  {
   "cell_type": "code",
   "execution_count": 32,
   "metadata": {},
   "outputs": [
    {
     "data": {
      "image/png": "[encoded data removed]",
      "text/plain": [
       "<Figure size 576x576 with 1 Axes>"
      ]
     },
     "metadata": {
      "needs_background": "light"
     },
     "output_type": "display_data"
    }
   ],
   "source": [
    "plot_freq_as_fcn_dt(num_cycles_single_activation = 0.5)"
   ]
  },
  {
   "cell_type": "markdown",
   "metadata": {},
   "source": [
    "The above plot shows that as sequence duration increases (1/seq duration decreases), the frequency of the eigenvalues that are estimated from data decreases for a specific frequency. Further, the relationship between sequence duration and frequency is relatively constant across different underlying frequencies. This relationship may explain phenomenon observed in Hall 2014 (Fig. 2G and 2J) that demonstrate a relationship between speed of movements (perhaps a proxy for sequence duration), and frequency of rotation of neural features. The faster the movement, or smaller the sequence duration, or higher up on the x-axis of this plot, the higher the frequency represented. \n",
    "\n",
    "We stress that this effect is due to the manner in which the $A$ matrix is fit (using least squares). This method tries to account for as much variance as possible with the few eigenvalues it has, and so ends up adjusting the underlying frequency of the eigenvalues to minimize the errors. We also stress that an $A$ matrix alone cannot autonomously produce a sequence of activity (with an initial condition and multiplication by $A$ to produce each subsequent datapoint). Thus, this is purely a result of using this type of model / analysis to capture activity patterns in data that may be under many more influences than just an $A$ matrix. "
   ]
  },
  {
   "cell_type": "markdown",
   "metadata": {},
   "source": [
    "This effect is most prominent for 2D neurons that only exhibit a single cycle (\"monophasic\"). In the 2D case if we allow neurons to have multiphasic activity (> 1 cycle), this relationship is less drastic, and the frequency of the $A$ matrix does not drift far from the underlying frequency of the oscillating neurons. Below there are multiphasic neurons. We also show below the widget the same plot as above, but for a larger value of ```num_cycles_single_activation```. "
   ]
  },
  {
   "cell_type": "code",
   "execution_count": 33,
   "metadata": {},
   "outputs": [
    {
     "data": {
      "application/vnd.jupyter.widget-view+json": {
       "model_id": "ce0d0e5b791f4a758330fe4ca44f2d19",
       "version_major": 2,
       "version_minor": 0
      },
      "text/plain": [
       "VBox(children=(HBox(children=(interactive(children=(IntSlider(value=2, description='freq', layout=Layout(width…"
      ]
     },
     "metadata": {},
     "output_type": "display_data"
    }
   ],
   "source": [
    "box = display_widgets.ploy_sequ2()\n",
    "box.assemble_box()\n",
    "display(box.box)"
   ]
  },
  {
   "cell_type": "code",
   "execution_count": 34,
   "metadata": {},
   "outputs": [
    {
     "data": {
      "image/png": "[encoded data removed]",
      "text/plain": [
       "<Figure size 576x576 with 1 Axes>"
      ]
     },
     "metadata": {
      "needs_background": "light"
     },
     "output_type": "display_data"
    }
   ],
   "source": [
    "plot_freq_as_fcn_dt(num_cycles_single_activation = 2.5)"
   ]
  },
  {
   "cell_type": "markdown",
   "metadata": {},
   "source": [
    "In the cases where the 2 neurons are multiphasic, most variance is going to be captured by having an eigenvalue pair that oscillates at the same frequency as the multiphasic neurons. In this case, \"slowing down\" the frequency will not contribute to helping explain the beginning or end parts where only one neuron is active. Again, this trend is a result of data fitting. "
   ]
  },
  {
   "cell_type": "markdown",
   "metadata": {},
   "source": [
    "### > 2 neurons "
   ]
  },
  {
   "cell_type": "markdown",
   "metadata": {},
   "source": [
    "So what happens when there are more than 2 neurons? Imagine the case of 4 neurons. This becomes interesting because now the $A$ matrix has 2 pairs of complex eigenvalues it can use to fit the data, not just one. Let's investigate what happens. Consider a similar case as above, where ```freq = 2```, ```noise =0.0```, and now ```N_neurons = 4 ``` and ```frac_sine_cycle = 2```. Now sweep the ```t_offset``` and observe how the eigenvalues change, as well as what the flow plots capture. Note that the red dot represents the start of the spatiotemporal pattern. "
   ]
  },
  {
   "cell_type": "code",
   "execution_count": 35,
   "metadata": {},
   "outputs": [
    {
     "data": {
      "application/vnd.jupyter.widget-view+json": {
       "model_id": "fae551430a0d48f1931f0d2cc91c0b7c",
       "version_major": 2,
       "version_minor": 0
      },
      "text/plain": [
       "VBox(children=(HBox(children=(interactive(children=(IntSlider(value=2, description='freq', layout=Layout(width…"
      ]
     },
     "metadata": {},
     "output_type": "display_data"
    }
   ],
   "source": [
    "box = display_widgets.flex_sequ_pls_flow()\n",
    "box.assemble_box()\n",
    "display(box.box)"
   ]
  },
  {
   "cell_type": "markdown",
   "metadata": {
    "colab_type": "text",
    "id": "Ng-4IC-G8fTq"
   },
   "source": [
    "For the most part, one pair of eigenvalues ($\\lambda_0$ and $\\lambda_1$) consistently stays around the underlying frequency (in the suggested example, 2 Hz), while the other one, which has a shorter time decay, shifts around in frequency. This second pair tends to be higher frequency for shorter values of ```t_offset```, and lower frequency for longer values of ```t_offset```. From looking at the flow field plots, it becomes clear that the second pair of eigenvalues is trying to estimate activity related to the onset of the sequence (red dot is start of the sequence). For smaller ```t_offset```s, the second eigenvalue pair is higher frequency, with rapidly moving activity in its flow field, whereas for larger values of ```t_offset```, the second eigenvalue pair is lower frequency. "
   ]
  },
  {
   "cell_type": "markdown",
   "metadata": {},
   "source": [
    "Below is code that plots the multiple eigenvalues for neural patterns that are either monophasic or multiphasic (depending on ```num_cycles_single_activation```)"
   ]
  },
  {
   "cell_type": "code",
   "execution_count": 36,
   "metadata": {},
   "outputs": [],
   "source": [
    "def plot_freq_as_fcn_dt_multiphasic(num_cycles_single_activation = 0.5, N_neurons = 4):\n",
    "\n",
    "    ### INPUTS: num_cycles_single_activation: Set the standard deviation of the gaussian \n",
    "    ### convolved with the sinusoid in units of \"fraction of cycles\" of the sinuoid. \n",
    "    ### This parameter controls whether individual neural activations are monophasic or multiphasic\n",
    "\n",
    "    ### INPUT : N_neurons -- number of neurons in the simulation; \n",
    "\n",
    "    ### Main parameters to sweep ###\n",
    "    noise_level = 0.0\n",
    "    dt = .005; \n",
    "    frequencies = np.arange(1, 11, 1)\n",
    "\n",
    "    ### For plotting \n",
    "    hf_freq = np.max([int(1), int(len(frequencies)/2.)])\n",
    "\n",
    "    ## Generate plot / colors\n",
    "    f, ax = plt.subplots(figsize=(15, 5), ncols = int(hf_freq), nrows = 2)\n",
    "    cols = plt.cm.viridis(np.linspace(0., 1, len(frequencies)+1))\n",
    "\n",
    "\n",
    "    ### Sweep through differnet underlying fundamental frequencies; \n",
    "    for i_f, freq in enumerate(frequencies):\n",
    "\n",
    "        ### Full \n",
    "        gauss = 1./freq*num_cycles_single_activation\n",
    "\n",
    "        ### Containers for mean frequency / sequence length ###\n",
    "        mn_f = [];\n",
    "        seq_l = []; \n",
    "        dt_ = []; \n",
    "\n",
    "        ### Set the time offsets as a function of frequency to make sure there's enough overlap\n",
    "        half_cycle_time = (1/freq)*0.25\n",
    "        hund_cycle_time = (1/freq)*.02\n",
    "        dt_offset = np.linspace(hund_cycle_time, half_cycle_time, 100)\n",
    "\n",
    "\n",
    "        ### For each DT ###\n",
    "        for i_off, dt_off in enumerate(dt_offset):\n",
    "\n",
    "            ### Get sequence data\n",
    "            data = seq_utils.generate_seq(freq, gauss, dt_off, N_neurons=N_neurons, dt=dt)\n",
    "\n",
    "            ### Get seq length: \n",
    "            mod = np.sum(np.abs(data), axis=1)\n",
    "            mod_ix = np.nonzero(mod)[0]\n",
    "\n",
    "            ### Step backward:\n",
    "            i = len(mod_ix) - 1\n",
    "            while mod[mod_ix[i]] == 0:\n",
    "                i -= i\n",
    "            seq_length = mod_ix[i]*dt\n",
    "\n",
    "            ### Add some noise \n",
    "            data_pls_noise = data + noise_level*np.random.randn(data.shape[0], data.shape[1])\n",
    "\n",
    "            ### Estimate the A matrix \n",
    "            Aest = np.linalg.lstsq(data_pls_noise[:-1, :], data_pls_noise[1:, :], rcond=None)[0] \n",
    "            Aest = Aest.T\n",
    "\n",
    "            ### Get the eigenvalue \n",
    "            ev, _ = np.linalg.eig(Aest)\n",
    "\n",
    "            ### Get the freuqencies / time delays ###\n",
    "            frequencies = np.angle(ev)/(2*np.pi*dt)\n",
    "            time_decay = -1/np.log(np.abs(ev))*dt\n",
    "\n",
    "            ### Get the positive frequencies ###\n",
    "            ix_nonneg = np.nonzero(np.logical_and(frequencies > 0, frequencies < 50))[0]\n",
    "\n",
    "            ### seq length ###\n",
    "            seq_l.append(seq_length)\n",
    "            dt_.append(dt_off)\n",
    "\n",
    "            ### Plot curve \n",
    "            rwz = int(i_f/hf_freq)\n",
    "            clz = int(i_f%hf_freq)\n",
    "\n",
    "            ax[rwz, clz].plot([dt_off]*len(ix_nonneg), frequencies[ix_nonneg], '.', color=cols[int(freq)])\n",
    "\n",
    "        xmin = np.min(dt_)\n",
    "        xmax = np.max(dt_)\n",
    "\n",
    "        ax[rwz, clz].set_xlabel('DT Offset (sec)')\n",
    "        ax[rwz, clz].set_ylabel('Freq. (Hz)')\n",
    "        ax[rwz, clz].set_title('Freq %d' %(freq))\n",
    "        sd = np.arange(xmin, xmax, .01)\n",
    "\n",
    "        ## Sequence duration ###\n",
    "        ax[rwz, clz].hlines(freq, xmin, xmax, 'k')\n",
    "        #ax[rwz, clz].plot(dt_, 0.25*(1./N_neurons)*1./np.hstack((dt_)), 'k--')\n",
    "\n",
    "    f.tight_layout()\n"
   ]
  },
  {
   "cell_type": "markdown",
   "metadata": {},
   "source": [
    "In the below plot, vary the monophasic vs. mulitphasic balance (via ```num_cycles_single_activation```, and the number of neurons, and see how eigenvalue frequencies change as a function of ```t_offsets```). "
   ]
  },
  {
   "cell_type": "code",
   "execution_count": 39,
   "metadata": {},
   "outputs": [
    {
     "data": {
      "image/png": "[encoded data removed]",
      "text/plain": [
       "<Figure size 1080x360 with 10 Axes>"
      ]
     },
     "metadata": {
      "needs_background": "light"
     },
     "output_type": "display_data"
    }
   ],
   "source": [
    "plot_freq_as_fcn_dt_multiphasic(num_cycles_single_activation = 2.5, N_neurons = 4)"
   ]
  },
  {
   "cell_type": "markdown",
   "metadata": {},
   "source": [
    "What we can see from above is that when DT offset is low, meaning that the time between onset of each neurons' activation pattern is short, higher frequencies show up in the second pair of eigenvalues, likely to try to capture dynamics associated with the rapid (high frequency) onset of neural activity. Note that one eigenvalue pair is always associated with the underlying frequency (horizontal black line) of the activations, especially in the multiphasic case. "
   ]
  },
  {
   "cell_type": "markdown",
   "metadata": {
    "colab_type": "text",
    "id": "EXcd_j9Dvp6e"
   },
   "source": [
    "Summary of what we've found: \n",
    "\n",
    "*   Sinusoids can give low frequency rotational oscillations in a fairly trivial way, i.e if there is a non-zero offset between two low frequency sine waves (Case I) \n",
    "*   Sequential activation of 2-neuron activity can also give low frequency rotational oscillations where frequency is influenced by the shape of the individual neural activation, as well as the offset time between each neural activation. \n",
    "*   Longer 2-neuron sequences, or longer time in between each neuron's onset yield lower frequency eigenvalues. \n",
    "*   Multiphasic 2-neuron sequences have eigenvalue frequencies that are less influenced by the onset time and are more consistently related to the frequency that dictates the individual neural activation. \n",
    "\n",
    "*   In higher-dimensional sequences, one pair of eigenvalues corresponds to the underlying freuqency of activation pattern, while other eigenvalue pairs capture dynamics related to temporally delayed onset of neural activity. Smaller offset times result in higher frequencies, whereas longer offset times result in lower frequencies. \n",
    "\n",
    "*   Overall, these trends support that when using dynamics to capture spatiotemporal activity patterns, there are variable ways in which \"low frequency\" oscillations can manifest, especially when there is noise in the data. Simple seqeuential structures (case II) may exhibit eigenvalue distributions similar to continuously oscillating sinusoids plus noise (case I), making it challenging to infer underlying spatiotemporal structure from analysis of dynamics alone. \n",
    "\n",
    "* Finally, the trends observed in part IV are a result of using a least squares method, a fairly common method, of fitting the $A$ matrix to data that imperfectly fits a dynamical system. Other methods of fitting $A$ may not exhibit the same results. Further, this was not an exhaustive search -- other spatiotemporal structures not explored here may exhibit low-frequency dynamics as well. \n"
   ]
  },
  {
   "cell_type": "markdown",
   "metadata": {
    "colab_type": "text",
    "id": "lzfvU9efTVAI"
   },
   "source": [
    "# Conclusion"
   ]
  },
  {
   "cell_type": "markdown",
   "metadata": {
    "colab_type": "text",
    "id": "zBccz_pZTY4b"
   },
   "source": [
    "The objective of this exercise was to highlight the simple, discrete linear dynamical system as an analysis tool. Although a simple linear regression, the tool enables identification of spatial modes (eigenvectors) exhibiting consistent temporal structure (eigenvalues), and may be expecially useful in cases where data is expected to be lower dimensional and exhibit predictable temporal structure. \n",
    "\n",
    "Given the recent emphasis on rotational dynamics in motor cortical datasets during stereotyped behaviors reported in literature, we dedicate the final section to exploring what types of spatiotemporal patterns could produce these features. We uncover that low frequency modes can be generated by oscillations with a phase offset (case 1) or monophasic or multiphasic sequences with specific temporal offsets (case 2). "
   ]
  },
  {
   "cell_type": "code",
   "execution_count": 0,
   "metadata": {
    "colab": {},
    "colab_type": "code",
    "id": "-fr4JOYoTV5W"
   },
   "outputs": [],
   "source": []
  }
 ],
 "metadata": {
  "colab": {
   "collapsed_sections": [
    "3MttRyBRW8Bw",
    "IahHicPcUTR_",
    "HKxbQkR1odIb",
    "_bz14_I8owu5",
    "STHXaGSAilK3",
    "TiTgQGYckXEq",
    "fbUhiGucFJ4v",
    "lzfvU9efTVAI"
   ],
   "name": "Dynamics Tutorial",
   "provenance": []
  },
  "kernelspec": {
   "display_name": "Python 3",
   "language": "python",
   "name": "python3"
  },
  "language_info": {
   "codemirror_mode": {
    "name": "ipython",
    "version": 3
   },
   "file_extension": ".py",
   "mimetype": "text/x-python",
   "name": "python",
   "nbconvert_exporter": "python",
   "pygments_lexer": "ipython3",
   "version": "3.7.1"
  }
 },
 "nbformat": 4,
 "nbformat_minor": 1
}
