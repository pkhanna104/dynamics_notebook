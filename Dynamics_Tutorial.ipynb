{
 "cells": [
  {
   "cell_type": "code",
   "execution_count": 276,
   "metadata": {
    "colab": {},
    "colab_type": "code",
    "id": "LaKClKxOWuKq"
   },
   "outputs": [],
   "source": [
    "import numpy as np\n",
    "import scipy.stats\n",
    "import scipy.fftpack\n",
    "import matplotlib.pyplot as plt\n",
    "from mpl_toolkits.mplot3d import Axes3D"
   ]
  },
  {
   "cell_type": "code",
   "execution_count": 277,
   "metadata": {
    "colab": {},
    "colab_type": "code",
    "id": "juQg7FDdHdGd"
   },
   "outputs": [
    {
     "name": "stdout",
     "output_type": "stream",
     "text": [
      "The autoreload extension is already loaded. To reload it, use:\n",
      "  %reload_ext autoreload\n"
     ]
    }
   ],
   "source": [
    "%load_ext autoreload\n",
    "%autoreload 2"
   ]
  },
  {
   "cell_type": "code",
   "execution_count": 278,
   "metadata": {
    "colab": {},
    "colab_type": "code",
    "id": "aELmv5x9v8cy"
   },
   "outputs": [],
   "source": [
    "import lds_utils, seq_utils, display_widgets"
   ]
  },
  {
   "cell_type": "code",
   "execution_count": 279,
   "metadata": {},
   "outputs": [],
   "source": [
    "import ipywidgets as widgets\n",
    "from IPython.display import display,clear_output"
   ]
  },
  {
   "cell_type": "markdown",
   "metadata": {
    "colab_type": "text",
    "id": "fnkFOB4rVY26"
   },
   "source": [
    "# Introduction"
   ]
  },
  {
   "cell_type": "markdown",
   "metadata": {
    "colab_type": "text",
    "id": "_viJhi7yVa3z"
   },
   "source": [
    "The goal of this exercise is part tutorial in discrete linear dynamical systems, part exploration of low frequency oscillatory dynamics, a feature that is increasingly found in datasets recorded from motor cortical regions of the brain. The tutorial part covers basics of discrete linear dynamical systems (part I) and a review of how the parameters fit by a dynamcis model can be analyzed and visualized to better understand what spatiotemporal patterns the model has captured (part II). The next part then covers how to use discrete linear dynamical systems in practice to analyze data (part III). Finally, part IV investigates what sorts of spatiotemporal patterns of data give rise to low-freuqency oscillatory dynamics that have been increasingly reported in motor cortical electrophysiology data (part IV). "
   ]
  },
  {
   "cell_type": "markdown",
   "metadata": {
    "colab_type": "text",
    "id": "3MttRyBRW8Bw"
   },
   "source": [
    "# Part I: Behavior of Discrete Linear Dynamical Systems\n",
    "In this part, we review analysis of discrete, linear dynamical systems and illustrate in 2D typical behaviors "
   ]
  },
  {
   "cell_type": "markdown",
   "metadata": {
    "colab_type": "text",
    "id": "broljB1SA-qW"
   },
   "source": [
    "Consider the system:  "
   ]
  },
  {
   "cell_type": "markdown",
   "metadata": {
    "colab_type": "text",
    "id": "MszbqU19Q2He"
   },
   "source": [
    "<center>$x_t = A x_{t-1}$ </center>"
   ]
  },
  {
   "cell_type": "markdown",
   "metadata": {
    "colab_type": "text",
    "id": "zm11W-zTQ4Kc"
   },
   "source": [
    "where $x_t$ is a 2x1 vector. In words, $A$ represents a linear transform, generating $x_t$ based only on the activity of $x_{t-1}$. Similarly, one can write $x_{t-1} = A x_{t-2}$ and see that $x_{t-1}$ too is generated from $x_{t-2}$ through the same linear transform $A$. By continuing to work backwards to solve for $x_t$, we arrive at the solution: "
   ]
  },
  {
   "cell_type": "markdown",
   "metadata": {
    "colab_type": "text",
    "id": "JkHdNX94Q7u2"
   },
   "source": [
    "<center>$x_t = A x_{t-1} = A (A x_{t-2}) = A(A(A x_{t-3})) = ... = A^t x_0$. </center>"
   ]
  },
  {
   "cell_type": "markdown",
   "metadata": {
    "colab_type": "text",
    "id": "8Tp5f8P9Q9-u"
   },
   "source": [
    "Thus, $x_t$ is just the result of an initial condition $x_0$ propagated forward in time $t$ times by linear transform $A$. Note that sometimes a slightly different form of this expression used, but it expresses the same idea: \n"
   ]
  },
  {
   "cell_type": "markdown",
   "metadata": {
    "colab_type": "text",
    "id": "mExltkRSMg2D"
   },
   "source": [
    "<center>$dx = x_{t} - x_{t-1} = Ax_{t-1}$</center>"
   ]
  },
  {
   "cell_type": "markdown",
   "metadata": {
    "colab_type": "text",
    "id": "ZvwFzI_n65ku"
   },
   "source": [
    "In fact we can re-write this equation in a similar form to the one we started with above: "
   ]
  },
  {
   "cell_type": "markdown",
   "metadata": {
    "colab_type": "text",
    "id": "TRI8KfOONDQg"
   },
   "source": [
    " <center>$x_{t} - x_{t-1} = Ax_{t-1}$</center>"
   ]
  },
  {
   "cell_type": "markdown",
   "metadata": {
    "colab_type": "text",
    "id": "k4LjKijWNJBu"
   },
   "source": [
    "<center>$x_t = Ax_{t-1} + x_{t-1} = (A+I)x_{t-1}$</center>"
   ]
  },
  {
   "cell_type": "markdown",
   "metadata": {
    "colab_type": "text",
    "id": "FO8rvJ9DNaWY"
   },
   "source": [
    "$x_t = (A')x_{t-1}$ where $A' = A+I$. So, what sort of trajectories through time can $A$ or $A'$ generate? Consider the following examples:"
   ]
  },
  {
   "cell_type": "code",
   "execution_count": 280,
   "metadata": {
    "scrolled": false
   },
   "outputs": [
    {
     "data": {
      "application/vnd.jupyter.widget-view+json": {
       "model_id": "91f01926947a429499e7b587eaeabbd4",
       "version_major": 2,
       "version_minor": 0
      },
      "text/plain": [
       "HBox(children=(VBox(children=(Dropdown(description='A Matrix: ', layout=Layout(width='initial'), options=('Non…"
      ]
     },
     "metadata": {},
     "output_type": "display_data"
    }
   ],
   "source": [
    "#### This displays a widget with 5 diffrent A matrix options### \n",
    "### Step 1) Select an A matrix from the dropdown menu ####\n",
    "### Step 2) Initialize some initial conditions on the graph (can click many times to initialize many points)\n",
    "### Step 3) Select how many time steps you'd like to propagate the initial conditions ahead\n",
    "box = display_widgets.interative_viewer_Amatrix_plot()\n",
    "box.assemble_box()\n",
    "display(box.box)"
   ]
  },
  {
   "cell_type": "markdown",
   "metadata": {
    "colab_type": "text",
    "id": "H5UMW3u7L1kB"
   },
   "source": [
    "In the five examples, the dark bluepurple points are the $x_0$ conditions, and the green and yellow points are the $x_0$ conditions that have been propagated in time by $A$. These five examples exemplify A1) a sink, A2) an explosion A3) an inward spiral, A4) an outward spiral, and A5) a saddle. Broadly, these characterize the most common types of behavior that are observed given an $A$ matrix. We split these examples in two categories; a) **stable vs. unstable**, and b) **oscillatory vs. non-oscillatory**. In the above examples, example 1 and 3 exhibit stable behavior (not exploding), and examples 2 and 4 exhibit unstable behavior (exploding). Example 5 has one unstable and one stable direction. Examples 1,  2, and 5 exhibit non-oscillatory behavior, while examples 3 and 4 exhibit oscillatory behavior. "
   ]
  },
  {
   "cell_type": "markdown",
   "metadata": {
    "colab_type": "text",
    "id": "OVJlxLaLMkYz"
   },
   "source": [
    "While these plots are easy to make in 2D, sometimes we want to analyze the behavior of higher dimensional datasets which are hard to make and look at, and second may be composed of many different types of behaviors (i.e mixes of the above examples). How can we figure out what the dominant behavior of an NxN A matrix is without having to make tons of subplots and try to imagine high dimensional space?  "
   ]
  },
  {
   "cell_type": "markdown",
   "metadata": {
    "colab_type": "text",
    "id": "IahHicPcUTR_"
   },
   "source": [
    "# Part II: Analyzing $A$ to infer dynamical behavior"
   ]
  },
  {
   "cell_type": "markdown",
   "metadata": {
    "colab_type": "text",
    "id": "KxH3ixDmNBLZ"
   },
   "source": [
    "Turns out that we can decompose the A matrix in a way that gives insight into the computations it performs. I won't review the concept of eigenvalues and eigenvectors here, but it is necessary to understand the next steps. Here is a great refresher: https://www.youtube.com/watch?v=PFDu9oVAE-g"
   ]
  },
  {
   "cell_type": "markdown",
   "metadata": {
    "colab_type": "text",
    "id": "NGlDe4evPxRy"
   },
   "source": [
    "So let's return to the solution of the dynamics equation for $x_t$: \n",
    "$x_t = A^t x_0$. Unless $A$ is the identity matrix or a zero matrix, presently its unclear what dynamics we should expect $A^t$ to exhibit compared to $A$. In order to make this more clear, we'll decompose $A$. "
   ]
  },
  {
   "cell_type": "markdown",
   "metadata": {
    "colab_type": "text",
    "id": "80glMwGuRAui"
   },
   "source": [
    "Let's assume that $A$ is a simple matrix $\\in \\mathbb{R}^{nxn}$, and so we can decompose it into $n$ distinct and linearly independent eigenvectors ($v_i \\in \\mathbb{C}^n, i = 1...n$) and respective non-zero eigenvalues ($\\lambda_i \\in \\mathbb{C}^1, i = 1...n$). For each eigenvector and eigenvalue, we can write: "
   ]
  },
  {
   "cell_type": "markdown",
   "metadata": {
    "colab_type": "text",
    "id": "T-Mcm4MyRsra"
   },
   "source": [
    "<center> $ A v_i = \\lambda_i v_i$ for all $i = 1...n$</center> "
   ]
  },
  {
   "cell_type": "markdown",
   "metadata": {
    "colab_type": "text",
    "id": "D5FmM4COR1Ve"
   },
   "source": [
    "Here, $v_i$ is an $ n x 1 $ vector. We can write $v_i$ as a column and horizontally stack up all the $v_i s$ to a large matrix we'll call $T$. Then we can also place the $\\lambda_i$s on the diagonal of a matrix $\\Lambda$.  This is written as: "
   ]
  },
  {
   "cell_type": "markdown",
   "metadata": {
    "colab_type": "text",
    "id": "1Ij7KJAoR_VL"
   },
   "source": [
    "<center> $ A \\begin{bmatrix} v_1 & v_2 & ... & v_n \\end{bmatrix} = \\begin{bmatrix} v_1 & v_2 & ... & v_n \\end{bmatrix}\\begin{bmatrix} \\lambda_1 & 0 & ... & 0 \\\\ 0 & \\lambda_2 & ... & 0 \\\\ \\vdots & \\vdots & \\ddots & \\vdots \\\\ 0 & 0 & \\ldots & \\lambda_n \\end{bmatrix}$</center> "
   ]
  },
  {
   "cell_type": "markdown",
   "metadata": {
    "colab_type": "text",
    "id": "-lg8ud3SS6EY"
   },
   "source": [
    "Or more simply as: "
   ]
  },
  {
   "cell_type": "markdown",
   "metadata": {
    "colab_type": "text",
    "id": "hrZw_smPS8S-"
   },
   "source": [
    "<center> $A T = T \\Lambda $</center> "
   ]
  },
  {
   "cell_type": "markdown",
   "metadata": {
    "colab_type": "text",
    "id": "eZvGEDPoTCe9"
   },
   "source": [
    "Since we assumed that $A$ was decomposible into $n$ linearly independent eigenvectors with non-zero eigenvalues, that's all we need to know to confirm that $T$ is an invertible matrix. We can then write: "
   ]
  },
  {
   "cell_type": "markdown",
   "metadata": {
    "colab_type": "text",
    "id": "qx4mZvahUIYu"
   },
   "source": [
    "<center> $ A = T \\Lambda T^{-1}$</center> "
   ]
  },
  {
   "cell_type": "markdown",
   "metadata": {
    "colab_type": "text",
    "id": "VrTYdeViUqx7"
   },
   "source": [
    "Why is this useful? If we return to the solution $x_t = A^t x_0$, its hard to imagine what $A^t$ would look like without actually multiplying out $A$ all $t$ times. However, if replacing $A$ with $ T \\Lambda T^{-1}$, makes the solution start to look more understandable: "
   ]
  },
  {
   "cell_type": "markdown",
   "metadata": {
    "colab_type": "text",
    "id": "Rm_5ei8YVMM8"
   },
   "source": [
    "<center> $x_t = A^t x_0$</center> "
   ]
  },
  {
   "cell_type": "markdown",
   "metadata": {
    "colab_type": "text",
    "id": "bf9yvCkxVe0Q"
   },
   "source": [
    "<center> $x_t = ( T \\Lambda T^{-1})^t x_0 $</center> "
   ]
  },
  {
   "cell_type": "markdown",
   "metadata": {
    "colab_type": "text",
    "id": "-vJqFPgFVgnA"
   },
   "source": [
    "<center> $x_t = ( T \\Lambda T^{-1}) ( T \\Lambda T^{-1}) ... ( T \\Lambda T^{-1}) x_0$</center> "
   ]
  },
  {
   "cell_type": "markdown",
   "metadata": {
    "colab_type": "text",
    "id": "_O4lHMPgVmgT"
   },
   "source": [
    "<center> $x_t =  T \\Lambda T^{-1}  T \\Lambda T^{-1}  ...  T \\Lambda T^{-1}  x_0$</center> "
   ]
  },
  {
   "cell_type": "markdown",
   "metadata": {
    "colab_type": "text",
    "id": "B6sOJGc7ViTk"
   },
   "source": [
    "Now, if we look closely, we see that there a number of $T^{-1}T $s that would evaluate to the identity matrix. If we remove all the $T^{-1}T$s, we're left with:"
   ]
  },
  {
   "cell_type": "markdown",
   "metadata": {
    "colab_type": "text",
    "id": "FoHbzCR8Vz6t"
   },
   "source": [
    "<center> $x_t = T \\Lambda \\Lambda ... \\Lambda T^{-1}  x_0$</center> "
   ]
  },
  {
   "cell_type": "markdown",
   "metadata": {
    "colab_type": "text",
    "id": "wO3rdXooV4G0"
   },
   "source": [
    "<center> $x_t = T\\Lambda^t T^{-1} x_0$</center> "
   ]
  },
  {
   "cell_type": "markdown",
   "metadata": {
    "colab_type": "text",
    "id": "pAU7XQYqV7jv"
   },
   "source": [
    "Now consider multiplying both sides by $T^{-1} $ and defining a new variable $z = T^{-1} x$. Now, instead of studying the effects of $A$ operating on $x$, we can now think of $\\Lambda$ operating on $z$. This particular linear transformation will make it easier for us to \"see\" what sorts of dynamical behavior $A$ generates. "
   ]
  },
  {
   "cell_type": "markdown",
   "metadata": {
    "colab_type": "text",
    "id": "zVnrdPZmWHhB"
   },
   "source": [
    "<center> $T^{-1} x_t = T^{-1} T \\Lambda^t T^{-1}  x_0$</center> "
   ]
  },
  {
   "cell_type": "markdown",
   "metadata": {
    "colab_type": "text",
    "id": "RtBiBIBkWKGf"
   },
   "source": [
    "<center> $T^{-1} x_t = \\Lambda^t T^{-1}  x_0$</center> "
   ]
  },
  {
   "cell_type": "markdown",
   "metadata": {
    "colab_type": "text",
    "id": "LCXgeCkBWLzk"
   },
   "source": [
    "<center>$z_t = \\Lambda^t z_0$ after substituting $z = T^{-1} x$</center>"
   ]
  },
  {
   "cell_type": "markdown",
   "metadata": {
    "colab_type": "text",
    "id": "0FWK9GgbWftX"
   },
   "source": [
    "<center> $z_t = \\begin{bmatrix} \\lambda_1 & 0 & ... & 0 \\\\ 0 & \\lambda_2 & ... & 0 \\\\ \\vdots & \\vdots & \\ddots & \\vdots \\\\ 0 & 0 & \\ldots & \\lambda_n \\end{bmatrix} ^{ t } z_0$</center> "
   ]
  },
  {
   "cell_type": "markdown",
   "metadata": {
    "colab_type": "text",
    "id": "oZcoVt1EWlIo"
   },
   "source": [
    "<center> $z_t = \\begin{bmatrix} \\lambda_1^t & 0 & ... & 0 \\\\ 0 & \\lambda_2^t & ... & 0 \\\\ \\vdots & \\vdots & \\ddots & \\vdots \\\\ 0 & 0 & \\ldots & \\lambda_n^t \\end{bmatrix} z_0$</center> "
   ]
  },
  {
   "cell_type": "markdown",
   "metadata": {
    "colab_type": "text",
    "id": "A-fUzPurWPNT"
   },
   "source": [
    "Now, this is something we can analyze easily! With an eigenvalue decomposition of A followed by a change of variable, we've ended up with a new dynamics matrix $\\Lambda$ operating on variable $z$ such that each dimension of $z$ is only ever influenced by itself. In other words, all the dimensions aren't mixed together as they may have been if we looked at the A matrix operating on $x$. If we consider just a single dimension, $z^i$, we can now write: "
   ]
  },
  {
   "cell_type": "markdown",
   "metadata": {
    "colab_type": "text",
    "id": "VQHlZG_IXT67"
   },
   "source": [
    "<center> $z_t^i = \\lambda_i^t z^i_0$</center> "
   ]
  },
  {
   "cell_type": "markdown",
   "metadata": {
    "colab_type": "text",
    "id": "vK_LaGVLXjMg"
   },
   "source": [
    "A final manipulation allows us to analyze the effects of $\\lambda_i^t$. Since $\\lambda_i$ is a complex number, $\\lambda_i = a_i + b_i i$, we can re-write $\\lambda_i = r_i e^{\\theta_i i}$ where $r_i = \\sqrt{(a_i^2 + b_i^2 )}$ and $\\theta_i = tan^{-1} (\\frac{b}{a})$"
   ]
  },
  {
   "cell_type": "markdown",
   "metadata": {
    "colab_type": "text",
    "id": "NEpbXOh9YH1Z"
   },
   "source": [
    "<center> $z_t^i = (r_i e^{\\theta_i i})^t z_0$ </center> "
   ]
  },
  {
   "cell_type": "markdown",
   "metadata": {
    "colab_type": "text",
    "id": "ZbcE4REPYWCg"
   },
   "source": [
    "<center> $z_t^i = (r_i^t e^{\\theta_i i t}) z_0$</center> "
   ]
  },
  {
   "cell_type": "markdown",
   "metadata": {
    "colab_type": "text",
    "id": "cwQMOJw4Yn1q"
   },
   "source": [
    "<center> $z_t^i = (r_i^t [ cos(\\theta_i t) + i sin(\\theta_i t) ] ) z_0$</center> "
   ]
  },
  {
   "cell_type": "markdown",
   "metadata": {
    "colab_type": "text",
    "id": "vZzE_bRyY-9e"
   },
   "source": [
    "This expression indicates that $z_t^i$ will exponentially grow or decay over time (dictated by the $r_i$ value), and will oscillate at a frequence dictated by the $\\theta_i$ value. Thus the behavior of the $z_i$ dimension is fully defined by the magnitude ($r_i$) and angle ($\\theta_i$) of the eigenvalue ($\\lambda_i$). With each step of $t, r_i^t$ will decay if $ r_i < 1$, or will explode if $ r_i > 1$. Thus, we call $\\lambda_i$ **stable** for $r_i \\leq 1$, and $\\lambda_i$ **unstable** for $r_i > 1$. For stable $r_i$, the **decay time** associated with $\\lambda_i$ is typically computed as the amount of time needed for $r_i^t$ to decay from $1$ at $t = 0$ to $\\frac{1}{e}$. This ends up being **decay time** = $-\\frac{1}{ln(r_i)} * dt$"
   ]
  },
  {
   "cell_type": "markdown",
   "metadata": {
    "colab_type": "text",
    "id": "gZinSsq2cQYf"
   },
   "source": [
    "Next, we can determine if $\\lambda_i$ is **non-oscillatory** if $\\theta_i = 0$, or that $\\lambda_i$ is **oscillatory** if $\\theta_i \\neq 0$. Further, if $\\lambda_i$ is oscillatory, $\\theta_i$ corresponds to radians / timestep completed. This can be converted to **frequency** in Hz by dividing by $2\\pi$ and then dividing by the length of each timestep in units of seconds. "
   ]
  },
  {
   "cell_type": "markdown",
   "metadata": {
    "colab_type": "text",
    "id": "oOahWuI9dn-s"
   },
   "source": [
    "In conclusion, we can determine the behavior of a dynamics matrix $A$ by just looking at a plot of all eigenvalues plotted on axes of **time decay** vs. **oscillation frequency**. Let's try out these plots for the above A matrices: "
   ]
  },
  {
   "cell_type": "code",
   "execution_count": 281,
   "metadata": {
    "colab": {
     "base_uri": "https://localhost:8080/",
     "height": 1000
    },
    "colab_type": "code",
    "id": "i7WzNnCiV6t9",
    "outputId": "373dd394-3793-485c-e27b-0dded7f7d634",
    "scrolled": false
   },
   "outputs": [
    {
     "data": {
      "application/vnd.jupyter.widget-view+json": {
       "model_id": "b6bc35c82c144839b3aedd17173d6c32",
       "version_major": 2,
       "version_minor": 0
      },
      "text/plain": [
       "HBox(children=(VBox(children=(Dropdown(description='A Matrix: ', layout=Layout(width='initial'), options=('Non…"
      ]
     },
     "metadata": {},
     "output_type": "display_data"
    }
   ],
   "source": [
    "box = display_widgets.interactive_viewer_Amat_pls_eigs()\n",
    "box.assemble_box()\n",
    "display(box.box)"
   ]
  },
  {
   "cell_type": "markdown",
   "metadata": {
    "colab_type": "text",
    "id": "jO7INayeV7IN"
   },
   "source": [
    "A few things to note about the above plots: a) when there are unstable eigenvalues (i.e  A2, A4, and part of A5), the time-decay values are negative and aren't interpretable, and b) when there is an oscillatory eigenvalue (i.e. examples 3, 4) both eigenvalues have the same time decay but opposite signs for oscillation frequency. This is expected -- oscillatory behavior requires two dimensions, and so eigenvalues corresponding to oscillatory modes come as a pair of complex conjugates ($a+bi, a-bi$) yielding $\\theta$ and $-\\theta$. "
   ]
  },
  {
   "cell_type": "markdown",
   "metadata": {
    "colab_type": "text",
    "id": "meKZ7rDSi6E7"
   },
   "source": [
    "See how 2D geometric rotation matrices of different frequencies can be analyzed through their eigenvalues: "
   ]
  },
  {
   "cell_type": "code",
   "execution_count": 282,
   "metadata": {
    "colab": {
     "base_uri": "https://localhost:8080/",
     "height": 1000
    },
    "colab_type": "code",
    "id": "vNXdbjl4PMSj",
    "outputId": "f13b0072-740b-416a-a49d-f79d6bb79cac",
    "scrolled": false
   },
   "outputs": [
    {
     "data": {
      "application/vnd.jupyter.widget-view+json": {
       "model_id": "eea072258ff44ff5874a9133a7d68585",
       "version_major": 2,
       "version_minor": 0
      },
      "text/plain": [
       "HBox(children=(VBox(children=(interactive(children=(IntSlider(value=1, description='rot_freq', max=20, min=1),…"
      ]
     },
     "metadata": {},
     "output_type": "display_data"
    }
   ],
   "source": [
    "#### Example 6 -- Rotation matrices \n",
    "### Typically a 2D rotation matrix is defined as [cos(theta), -sin(theta)], [sin(theta), cos(theta)]\n",
    "### Let's generate data from rotation matrices and see if analyzing the rotation \n",
    "### matrix yields eigenvalues that match the expected frequency\n",
    "box = display_widgets.rotator()\n",
    "box.assemble_box()\n",
    "display(box.box)"
   ]
  },
  {
   "cell_type": "markdown",
   "metadata": {
    "colab_type": "text",
    "id": "HKxbQkR1odIb"
   },
   "source": [
    "# Part III: Fitting $A$ to observed datasets, and visualizing top dynamical dimensions of $A$"
   ]
  },
  {
   "cell_type": "markdown",
   "metadata": {
    "colab_type": "text",
    "id": "JCgm5q_0VzmR"
   },
   "source": [
    "In the above examples, we generated 2D data according to a given $A$ matrix and initial condition $x_0$. All data we created was perfectly adherent to $A$, without any external influences. Now, we're going to consider the opposite case where instead of having $A$ and using it to generate data, we have lots of higher dimensional data, and we try to estimate $A$ and then analyze $A$ to tell us something about the dynamics of our data. \n",
    "\n",
    "\n",
    "We will generate some fake data, then fit an $A$ matrix to the data, quantify how well this $A$ matrix fits the data, and then plot the eigenspectrum. Note that going forward we will only concern ourselves with **stable** systems. "
   ]
  },
  {
   "cell_type": "code",
   "execution_count": 284,
   "metadata": {
    "colab": {
     "base_uri": "https://localhost:8080/",
     "height": 585
    },
    "colab_type": "code",
    "id": "cvz3dIzMoswa",
    "outputId": "6286d125-3563-4a80-a1dc-20222ddbb65f"
   },
   "outputs": [
    {
     "data": {
      "application/vnd.jupyter.widget-view+json": {
       "model_id": "305042d100294f01b6db63e82869b873",
       "version_major": 2,
       "version_minor": 0
      },
      "text/plain": [
       "VBox(children=(HBox(children=(interactive(children=(IntSlider(value=1, description='f1', layout=Layout(width='…"
      ]
     },
     "metadata": {},
     "output_type": "display_data"
    }
   ],
   "source": [
    "## Generate fake data with this gui\n",
    "## Adjust the sliders and click \"interact manual\" to update the plot of the data + eigenvalue spectrum; \n",
    "box = display_widgets.fake_data_maker()\n",
    "box.assemble_box()\n",
    "display(box.box)\n",
    "\n",
    "### Pay attention to how the frequencies (f1, f2, f3) show up in the data and the eigenvalues \n",
    "### Also notice how adding noise changes the R2 of the model, and influences the estimated \"time decay\" values of the \n",
    "### eigenvalues ;"
   ]
  },
  {
   "cell_type": "markdown",
   "metadata": {
    "colab_type": "text",
    "id": "m9spG_4nd1tH"
   },
   "source": [
    "Some notes about the above simulation: \n",
    "* Estimating an A matrix from data: we can do a simple least squares multiple linear regression where  $x_{t-1}$ predicts $x_t$\n",
    "* If the dimesionality of X is high, it can be challenging to fit A, since need to estimate $N^2$ entries. Methods for improving robust fits of A include ridge regression, dynamic mode decomposition (Tu, 2012), using least squares for sparse matrices, and others. \n",
    "* $R^2$ means variance accounted for by the model, or how much of $x_t$ does $x_{t-1}$ account for. \n",
    "* We can see above that the main frequencies $f_1, f_2, f_3$ that we put into the fake data (marked by the dashed yellow lines) are being captured by A\n",
    "* There are also a few non-oscillatory components (centered at zero). It is good to remember that in this dataset, the timestep $dt$ is 0.01 sec, or 10 ms. Thus, any decays calculated to be less than 10ms are not making substantial predictions since they exhibit time decays faster than the passage of a single bin. \n",
    "* A key idea is that the eigenvalues with the longest time decays are the ones with properties that are most present in the data. The dynamics associated with eigenvalues with very short time decays are not strongly present in the data. \n",
    "\n",
    "We're now going to focus on visualizing the dynamics using a flow field representation. For a review on how to do this: https://www.youtube.com/watch?v=qlUr2Jc5O0g"
   ]
  },
  {
   "cell_type": "code",
   "execution_count": 285,
   "metadata": {
    "scrolled": false
   },
   "outputs": [
    {
     "data": {
      "application/vnd.jupyter.widget-view+json": {
       "model_id": "738a451cfb9c4d2fa0d1bfe39373e339",
       "version_major": 2,
       "version_minor": 0
      },
      "text/plain": [
       "VBox(children=(HBox(children=(interactive(children=(IntSlider(value=1, description='f1', layout=Layout(width='…"
      ]
     },
     "metadata": {},
     "output_type": "display_data"
    }
   ],
   "source": [
    "### Play around which which dimensions to visualize ###\n",
    "### Notice that some pairs will look like oscillations, some will show only decays ###\n",
    "### Remember that python uses 'zero-indexing' \n",
    "\n",
    "### Here the \"flow field\" predicted by Lambda is illustrated -- for each point on the plane\n",
    "### spanned by dim0 x dim1, the lambda matrix is used to predict the next time step (Lambda z_{t-1})\n",
    "### resulting in an arrow from z_{t-1} to Lambda z{t-1}. Arrows are colored by their magnitude. \n",
    "\n",
    "### The title of the plot will tell you the time decay and frequency of oscillation of each of the eigenvalues\n",
    "### associated with the dimensions you are plotting. Notice that their properties \n",
    "### match the graph above \n",
    "\n",
    "### Play around with which dimensions to plot: notice that if you plot an oscillatory dimension of x Hz \n",
    "### against its negative -x Hz, you'll capture rotations; \n",
    "\n",
    "### the black lines with dots plot the first 100 datapoints (1 second) of the fake generated data (i.e. Ztm1)\n",
    "### so notice which dimensions seem to capture the changes in the data best; \n",
    "\n",
    "box = display_widgets.fake_data_flows()\n",
    "box.assemble_box()\n",
    "display(box.box)"
   ]
  },
  {
   "cell_type": "markdown",
   "metadata": {
    "colab_type": "text",
    "id": "_bz14_I8owu5"
   },
   "source": [
    "# Part IV: Spatiotemporal Patterns With Rotational Dynamics"
   ]
  },
  {
   "cell_type": "markdown",
   "metadata": {
    "colab_type": "text",
    "id": "GseceVYDAT5O"
   },
   "source": [
    "Now that we have the tools to analyze a linear dynamics matrix $A$ and to visualize the dominant modes of the dynamics capture by $A$, we now turn to studying how low frequency rotational dynamics may emerge from spatiotemporal patterns of neural activity. Recent work has highlighted that neural activity patterns in motor cortical areas exhibit rotational dynamics in the range of 1-4 Hz (Churchland 2012, Hall 2014, Sussillo 2015). We examine what types of spatiotemporal structure can give rise to oscillatory dynamics in this range. "
   ]
  },
  {
   "cell_type": "markdown",
   "metadata": {
    "colab_type": "text",
    "id": "jW_hk2XJfGpf"
   },
   "source": [
    "First, we consider the simplest case -- neurons oscillating at the specified low frequency"
   ]
  },
  {
   "cell_type": "markdown",
   "metadata": {},
   "source": [
    "# Case I: Sinusoids"
   ]
  },
  {
   "cell_type": "markdown",
   "metadata": {},
   "source": [
    "In the example below choose a frequency and number of neurons and then slide through the different \"t_offset\" conditions for that frequency to see how different temporal offsets influence the eigenvalues plotted. See what happens for 4 neurons oscillating at 5 Hz with a 0.1 sec offset, for example. "
   ]
  },
  {
   "cell_type": "code",
   "execution_count": 287,
   "metadata": {
    "colab": {},
    "colab_type": "code",
    "id": "117ZbISBieOq"
   },
   "outputs": [
    {
     "data": {
      "application/vnd.jupyter.widget-view+json": {
       "model_id": "9bddfc7ffde3400191f6aaf925b4a1cf",
       "version_major": 2,
       "version_minor": 0
      },
      "text/plain": [
       "VBox(children=(HBox(children=(interactive(children=(IntSlider(value=1, description='freq', layout=Layout(width…"
      ]
     },
     "metadata": {},
     "output_type": "display_data"
    }
   ],
   "source": [
    "box = display_widgets.sinuoids()\n",
    "box.assemble_box()\n",
    "display(box.box)"
   ]
  },
  {
   "cell_type": "markdown",
   "metadata": {
    "colab_type": "text",
    "id": "inNoEr5_isrU"
   },
   "source": [
    "You can see from the above example, that as long as there is a non-zero offset (that is not a multiple of half the cycle time) between each neuron and sufficiently low noise, the $A$ matrix recovers the fundamental frequency. In the case of 5 Hz and 0.1 offset, each neuron ends up having the same waveform as the first neuron either multiplied by 1 or -1, so this is also prevents the $A$ matrix from recovering frequency information. Also, some offsets allow for eigenvalues with longer time decays than others -- though this effect is dependent on noise levels. "
   ]
  },
  {
   "cell_type": "markdown",
   "metadata": {
    "colab_type": "text",
    "id": "dTpt3sCmeG6e"
   },
   "source": [
    "This is the most obvious structure giving rise to rotational dynamics -- sinusoidal firing patterns. However it is unusual to observe this type of oscillating neural activity in motor regions of the brain. A structure that is more commonly found are neurons that have monophasic or multiphasic patterns that are activated at preferred times during the behiavior -- what we loosely term \"sequential activity\". Below we explore how sequential activity may exhibit rotational dynamics as well."
   ]
  },
  {
   "cell_type": "markdown",
   "metadata": {
    "colab_type": "text",
    "id": "TiTgQGYckXEq"
   },
   "source": [
    "# Case 2: Sequential Activity"
   ]
  },
  {
   "cell_type": "markdown",
   "metadata": {
    "colab_type": "text",
    "id": "gO6xZO4kXeG2"
   },
   "source": [
    "Below we'll generate a sequence. We'll first consider the simple 2D case where each neuron exhibits a single oscillatory cycle at a slight time offset to one another. The single neuron activation is composed of a sine wave (frequency dictated by ```freq```) multiplied by a gaussian (standard deviation of the gaussian corresponds to the time needed for one cycle to transpire ). ```t_offset``` determines the offset time (seconds) between individual neurons in the sequence."
   ]
  },
  {
   "cell_type": "markdown",
   "metadata": {},
   "source": [
    "## 2 neuron case: "
   ]
  },
  {
   "cell_type": "markdown",
   "metadata": {},
   "source": [
    "For the example below, the widget is constrained only produce 2 neurons. Set the frequency and noise level, and sweep through the ```t_offset``` and pay attention to how frequency of the eigenvalues change. Also observe the neural space plot in the middle that shows the 2D neural space and the trajectories through space that the neurons are tracing out. Starting with 2 hz and noise = 0.0 is a good place to start:  "
   ]
  },
  {
   "cell_type": "code",
   "execution_count": 289,
   "metadata": {
    "colab": {
     "base_uri": "https://localhost:8080/",
     "height": 282
    },
    "colab_type": "code",
    "id": "j-GLyFSao2XI",
    "outputId": "8609770e-834e-43e0-95a2-e41915cd96ab"
   },
   "outputs": [
    {
     "data": {
      "application/vnd.jupyter.widget-view+json": {
       "model_id": "9d4526f0b3ae4194ba53fb01c2ec1cf9",
       "version_major": 2,
       "version_minor": 0
      },
      "text/plain": [
       "VBox(children=(HBox(children=(interactive(children=(IntSlider(value=2, description='freq', layout=Layout(width…"
      ]
     },
     "metadata": {},
     "output_type": "display_data"
    }
   ],
   "source": [
    "box = display_widgets.mono_sequ2()\n",
    "box.assemble_box()\n",
    "display(box.box)"
   ]
  },
  {
   "cell_type": "markdown",
   "metadata": {
    "colab_type": "text",
    "id": "w-FlvTLMYm-G"
   },
   "source": [
    "From the above examples you should be able to see that when the temporal offsets start to become larger and larger, the frequency of rotation found by the eigenvalues becomes lower. Remember that the 2 x 2 $A$ matrix has one 1 eigenvalue pair it can use to fit the data.  Place the ```freq = 2```, ```t_offset = 0.12```, and ```noise = 0.05```. When there are large regions of the signals (at the beginning or the end) when only one neuron is active, due to the long ```t_offset``` values, the neural trajectory plotted in the middle plot does not abide the same dynamics as it does when both neurons are active in the middle of the sequence. The dynamics of these beginning and ending sections either decay towards the origin (as in the beginning -- can think of as 9 o'clock --> center), or away from the origin (as in the end -- can think of center --> 6 o'clock). Either way, instead of rotating counter-clockwise as the rest of the trajectory does, these trajectories seemingly resist the rotation. Their effect forces $A$ to lower the frequency estimate to try to fit both types of dynamics. "
   ]
  },
  {
   "cell_type": "markdown",
   "metadata": {},
   "source": [
    "Below, we'll explore how the ```t_offset``` parameter influences the frequency of the eigenvalues in the 2D case. This code snippet will also directly show you how the $A$ matrix is computed from data, and how the eigenvalue frequencies and time decays are computed"
   ]
  },
  {
   "cell_type": "code",
   "execution_count": 291,
   "metadata": {
    "scrolled": false
   },
   "outputs": [],
   "source": [
    "def plot_freq_as_fcn_dt(num_cycles_single_activation = 0.5):\n",
    "    ### INPUT: num_cycles_single_activation = Set the standard deviation of the \n",
    "    ### gaussian convolved with the sinusoid in units of \"fraction of cycles\" \n",
    "    ### of the sinuoid. This parameter controls whether individual neural \n",
    "    ### activations are monophasic or multiphasic: \n",
    "    \n",
    "    ### Main parameters to sweep ###\n",
    "    N_neurons = 2 \n",
    "    noise_level = 0.01\n",
    "\n",
    "    ### timestep \n",
    "    dt = 0.001\n",
    "    ## Generate plot / colors\n",
    "    f, ax = plt.subplots(figsize=(8, 8))\n",
    "    cols = plt.cm.viridis(np.linspace(0., 1, 11))\n",
    "\n",
    "    ### Sweep through differnet underlying fundamental frequencies; \n",
    "    for freq in np.arange(1, 11, 1):\n",
    "\n",
    "        ### Containers for mean frequency / sequence length ###\n",
    "        mn_f = [];\n",
    "        seq_cycle = []; \n",
    "\n",
    "        # Gaussian is set to half cycle, just like above: \n",
    "        gauss = num_cycles_single_activation/(freq)\n",
    "\n",
    "        ### Set the time offsets as a function of frequency to make sure there's enough overlap\n",
    "        quarter_cycle_time = (1/freq)*0.25\n",
    "        fiftyth_cycle_time = (1/freq)*.1\n",
    "        dt_offset = np.linspace(quarter_cycle_time, fiftyth_cycle_time, 100)\n",
    "\n",
    "        ### For each DT ###\n",
    "        for i_off, dt_off in enumerate(dt_offset):\n",
    "\n",
    "            ### Get sequence data\n",
    "            data = seq_utils.generate_seq(freq, gauss, dt_off, N_neurons=N_neurons, dt=dt)\n",
    "\n",
    "            ### Add some noise \n",
    "            dT, dN = data.shape\n",
    "            data_pls_noise = data + noise_level*np.random.randn(dT, dN)\n",
    "\n",
    "            ### Estimate the A matrix \n",
    "            Aest = np.linalg.lstsq(data_pls_noise[:-1, :], data_pls_noise[1:, :], rcond=None)[0] \n",
    "            Aest = Aest.T\n",
    "\n",
    "            ### Get the eigenvalue \n",
    "            ev, _ = np.linalg.eig(Aest)\n",
    "\n",
    "            ### Get the freuqencies / time delays ###\n",
    "            frequencies = np.angle(ev)/(2*np.pi*dt)\n",
    "            time_decay = -1/np.log(np.abs(ev))*dt\n",
    "\n",
    "            ### Get the positive frequencies ###\n",
    "            ix_nonneg = np.nonzero(frequencies > 0)[0]\n",
    "\n",
    "            if len(ix_nonneg) == 0:\n",
    "                mn_f.append(np.nan)\n",
    "            else:\n",
    "                ### weighted average based on time decay ###\n",
    "                mn_f.append(frequencies[ix_nonneg[0]])\n",
    "\n",
    "            ### seq length ###\n",
    "            seq_cycle.append(1./(dT*dt))\n",
    "\n",
    "        ### Plot curve \n",
    "        ax.plot(seq_cycle, mn_f, '.', label='Freq %.1f Hz' %(freq), color = cols[int(freq)])\n",
    "\n",
    "    ax.set_xlabel(' 1 / (Sequence Duration, sec.)')\n",
    "    ax.set_ylabel('Eigenvalue Frequency (Hz)')\n",
    "    f.legend()"
   ]
  },
  {
   "cell_type": "code",
   "execution_count": 292,
   "metadata": {},
   "outputs": [
    {
     "data": {
      "image/png": "[encoded data removed]",
      "text/plain": [
       "<Figure size 576x576 with 1 Axes>"
      ]
     },
     "metadata": {
      "needs_background": "light"
     },
     "output_type": "display_data"
    }
   ],
   "source": [
    "plot_freq_as_fcn_dt(num_cycles_single_activation = 0.5)"
   ]
  },
  {
   "cell_type": "markdown",
   "metadata": {},
   "source": [
    "The above plot shows that as sequence duration increases (1/seq duration decreases), the frequency of the eigenvalues decreases for a specific frequency. Further, the relationship between sequence duration and frequency is relatively constant across different underlying frequencies. This relationship may explain phenomenon observed in Hall 2014 (Fig. 2G and 2J) that demonstrate a relationship between speed of movements (perhaps a proxy for sequence duration), and frequency of rotation of neural features. The faster the movement, or smaller the sequence duration, or higher up on the x-axis of this plot, the higher the frequency represented. "
   ]
  },
  {
   "cell_type": "markdown",
   "metadata": {},
   "source": [
    "This effect is most prominent for 2D neurons that only exhibit a single cycle (\"monophasic\"). In the 2D case if we allow neurons to have multiphasic activity (> 1 cycle), this relationship is less drastic, and the frequency of the A matrix does not drift far from the underlying frequency of the oscillating neurons. Below there are multiphasic neurons. We also show below the widget the same plot as above, but for a larger value of ```num_cycles_single_activation```. "
   ]
  },
  {
   "cell_type": "code",
   "execution_count": 258,
   "metadata": {},
   "outputs": [
    {
     "data": {
      "application/vnd.jupyter.widget-view+json": {
       "model_id": "e451a683a0694fd79a3ec2eb4677bd18",
       "version_major": 2,
       "version_minor": 0
      },
      "text/plain": [
       "VBox(children=(HBox(children=(interactive(children=(IntSlider(value=2, description='freq', layout=Layout(width…"
      ]
     },
     "metadata": {},
     "output_type": "display_data"
    }
   ],
   "source": [
    "box = display_widgets.ploy_sequ2()\n",
    "box.assemble_box()\n",
    "display(box.box)"
   ]
  },
  {
   "cell_type": "code",
   "execution_count": 294,
   "metadata": {},
   "outputs": [
    {
     "data": {
      "image/png": "[encoded data removed]",
      "text/plain": [
       "<Figure size 576x576 with 1 Axes>"
      ]
     },
     "metadata": {
      "needs_background": "light"
     },
     "output_type": "display_data"
    }
   ],
   "source": [
    "plot_freq_as_fcn_dt(num_cycles_single_activation = 2.5)"
   ]
  },
  {
   "cell_type": "markdown",
   "metadata": {},
   "source": [
    "### > 2 neurons "
   ]
  },
  {
   "cell_type": "markdown",
   "metadata": {},
   "source": [
    "So what happens when there are more than 2 neurons? Imagine the case of 4 neurons. This becomes interesting because now the $A$ matrix has 2 pairs of complex eigenvalues it can use to fit the data, not just one. Let's investigate what happens. Consider a similar case as above, where ```freq = 2```, ```noise =0.05```, and now ```N_neurons = 4 ``` and ```frac_sine_cycle = 2```. Now sweep the ```t_offset``` and observe how the eigenvalues change, as well as what the flow plots capture. Note that the red dot represents the start of the spatiotemporal pattern. "
   ]
  },
  {
   "cell_type": "code",
   "execution_count": 300,
   "metadata": {},
   "outputs": [
    {
     "data": {
      "application/vnd.jupyter.widget-view+json": {
       "model_id": "42070b5bb9ac400bbed707df2b5c82db",
       "version_major": 2,
       "version_minor": 0
      },
      "text/plain": [
       "VBox(children=(HBox(children=(interactive(children=(IntSlider(value=2, description='freq', layout=Layout(width…"
      ]
     },
     "metadata": {},
     "output_type": "display_data"
    }
   ],
   "source": [
    "box = display_widgets.flex_sequ_pls_flow()\n",
    "box.assemble_box()\n",
    "display(box.box)"
   ]
  },
  {
   "cell_type": "markdown",
   "metadata": {
    "colab_type": "text",
    "id": "Ng-4IC-G8fTq"
   },
   "source": [
    "For the most part, one pair of eigenvalues ($\\lambda_0 and \\lambda_1$) consistently stays around the underlying frequency (in the suggested example, 2 Hz), while the other one, which has a shorter time decay, shifts around in frequency. This second pair tends to be higher frequency for shorter values of ```t_offset```, and lower frequency for longer values of ```t_offset```. From looking at the flow field plots, it becomes clear that the second pair of eigenvalues is trying to estimate activity related to the onset of the sequence. For smaller ```t_offset```s, the second eigenvalue pair is higher frequency, with rapidly moving activity in its flow field, whereas for larger values of ```t_offset```, the second eigenvalue pair is lower frequency. "
   ]
  },
  {
   "cell_type": "markdown",
   "metadata": {},
   "source": [
    "Below is code that plots the multiple eigenvalues for neural patterns that are either monophasic or multiphasic (depending on ```num_cycles_single_activation```)"
   ]
  },
  {
   "cell_type": "code",
   "execution_count": 313,
   "metadata": {},
   "outputs": [],
   "source": [
    "def plot_freq_as_fcn_dt_multiphasic(num_cycles_single_activation = 0.5, N_neurons = 4):\n",
    "\n",
    "    ### INPUTS: num_cycles_single_activation: Set the standard deviation of the gaussian \n",
    "    ### convolved with the sinusoid in units of \"fraction of cycles\" of the sinuoid. \n",
    "    ### This parameter controls whether individual neural activations are monophasic or multiphasic\n",
    "\n",
    "    ### INPUT : N_neurons -- number of neurons in the simulation; \n",
    "\n",
    "    ### Main parameters to sweep ###\n",
    "    noise_level = 0.0\n",
    "    dt = .005; \n",
    "    frequencies = np.arange(1, 11, 1)\n",
    "\n",
    "    ### For plotting \n",
    "    hf_freq = np.max([int(1), int(len(frequencies)/2.)])\n",
    "\n",
    "    ## Generate plot / colors\n",
    "    f, ax = plt.subplots(figsize=(15, 5), ncols = int(hf_freq), nrows = 2)\n",
    "    cols = plt.cm.viridis(np.linspace(0., 1, len(frequencies)+1))\n",
    "\n",
    "\n",
    "    ### Sweep through differnet underlying fundamental frequencies; \n",
    "    for i_f, freq in enumerate(frequencies):\n",
    "\n",
    "        ### Full \n",
    "        gauss = 1./freq*num_cycles_single_activation\n",
    "\n",
    "        ### Containers for mean frequency / sequence length ###\n",
    "        mn_f = [];\n",
    "        seq_l = []; \n",
    "        dt_ = []; \n",
    "\n",
    "        ### Set the time offsets as a function of frequency to make sure there's enough overlap\n",
    "        half_cycle_time = (1/freq)*0.25\n",
    "        hund_cycle_time = (1/freq)*.02\n",
    "        dt_offset = np.linspace(hund_cycle_time, half_cycle_time, 100)\n",
    "\n",
    "\n",
    "        ### For each DT ###\n",
    "        for i_off, dt_off in enumerate(dt_offset):\n",
    "\n",
    "            ### Get sequence data\n",
    "            data = seq_utils.generate_seq(freq, gauss, dt_off, N_neurons=N_neurons, dt=dt)\n",
    "\n",
    "            ### Get seq length: \n",
    "            mod = np.sum(np.abs(data), axis=1)\n",
    "            mod_ix = np.nonzero(mod)[0]\n",
    "\n",
    "            ### Step backward:\n",
    "            i = len(mod_ix) - 1\n",
    "            while mod[mod_ix[i]] == 0:\n",
    "                i -= i\n",
    "            seq_length = mod_ix[i]*dt\n",
    "\n",
    "            ### Add some noise \n",
    "            data_pls_noise = data + noise_level*np.random.randn(data.shape[0], data.shape[1])\n",
    "\n",
    "            ### Estimate the A matrix \n",
    "            Aest = np.linalg.lstsq(data_pls_noise[:-1, :], data_pls_noise[1:, :], rcond=None)[0] \n",
    "            Aest = Aest.T\n",
    "\n",
    "            ### Get the eigenvalue \n",
    "            ev, _ = np.linalg.eig(Aest)\n",
    "\n",
    "            ### Get the freuqencies / time delays ###\n",
    "            frequencies = np.angle(ev)/(2*np.pi*dt)\n",
    "            time_decay = -1/np.log(np.abs(ev))*dt\n",
    "\n",
    "            ### Get the positive frequencies ###\n",
    "            ix_nonneg = np.nonzero(np.logical_and(frequencies > 0, frequencies < 50))[0]\n",
    "\n",
    "            ### seq length ###\n",
    "            seq_l.append(seq_length)\n",
    "            dt_.append(dt_off)\n",
    "\n",
    "            ### Plot curve \n",
    "            rwz = int(i_f/hf_freq)\n",
    "            clz = int(i_f%hf_freq)\n",
    "\n",
    "            ax[rwz, clz].plot([dt_off]*len(ix_nonneg), frequencies[ix_nonneg], '.', color=cols[int(freq)])\n",
    "\n",
    "        xmin = np.min(dt_)\n",
    "        xmax = np.max(dt_)\n",
    "\n",
    "        ax[rwz, clz].set_xlabel('DT Offset (sec)')\n",
    "        ax[rwz, clz].set_ylabel('Freq. (Hz)')\n",
    "        ax[rwz, clz].set_title('Freq %d' %(freq))\n",
    "        sd = np.arange(xmin, xmax, .01)\n",
    "\n",
    "        ## Sequence duration ###\n",
    "        ax[rwz, clz].hlines(freq, xmin, xmax, 'k')\n",
    "        #ax[rwz, clz].plot(dt_, 0.25*(1./N_neurons)*1./np.hstack((dt_)), 'k--')\n",
    "\n",
    "    f.tight_layout()\n"
   ]
  },
  {
   "cell_type": "markdown",
   "metadata": {},
   "source": [
    "In the below plot, vary the monophasic vs. mulitphasic balance (via ```num_cycles_single_activation```, and the number of neurons, and see how eigenvalue frequencies change as a function of ```t_offsets```). "
   ]
  },
  {
   "cell_type": "code",
   "execution_count": 317,
   "metadata": {},
   "outputs": [
    {
     "data": {
      "image/png": "[encoded data removed]",
      "text/plain": [
       "<Figure size 1080x360 with 10 Axes>"
      ]
     },
     "metadata": {
      "needs_background": "light"
     },
     "output_type": "display_data"
    }
   ],
   "source": [
    "plot_freq_as_fcn_dt_multiphasic(num_cycles_single_activation = 2.5, N_neurons = 4)"
   ]
  },
  {
   "cell_type": "markdown",
   "metadata": {},
   "source": [
    "What we can see from above is that when DT offset is low, meaning that the time between onset of each neurons' activation pattern is short, higher frequencies show up in the eigenvalues, likely to try to capture dynamics associated with the rapid (high frequency) onset of neural activity. Note that one eigenvalue is always associated with the underlying frequency (horizontal black line) of the activations, especially in the multiphasic case. "
   ]
  },
  {
   "cell_type": "markdown",
   "metadata": {
    "colab_type": "text",
    "id": "EXcd_j9Dvp6e"
   },
   "source": [
    "Summary of what we've found: \n",
    "\n",
    "*   Sinusoids can give low frequency rotational oscillations in a fairly trivial way, i.e if there is a non-zero offset between two low frequency sine waves (Case I) \n",
    "*   Sequential activation of 2-neuron activity can also give low frequency rotational oscillations where frequency is influenced by the shape of the individual neural activation, as well as the offset time between each neural activation. \n",
    "*   Longer 2-neuron sequences, or longer time in between each neuron's onset yield lower frequency eigenvalues. \n",
    "*   Multiphasic 2-neuron sequences have eigenvalue frequencies that are less influenced by the offset time and are more consistently related to the frequency that dictates the individual neural activation. \n",
    "\n",
    "*   In higher-dimensional sequences, one pair of eigenvalues corresponds to the underlying freuqency of activation pattern, while other eigenvalue pairs capture dynamics related to temporally delayed onset of neural activity. Smaller offset times result in higher frequencies, whereas longer offset times result in lower frequencies. \n",
    "\n"
   ]
  },
  {
   "cell_type": "markdown",
   "metadata": {
    "colab_type": "text",
    "id": "lzfvU9efTVAI"
   },
   "source": [
    "# Conclusion"
   ]
  },
  {
   "cell_type": "markdown",
   "metadata": {
    "colab_type": "text",
    "id": "zBccz_pZTY4b"
   },
   "source": [
    "The objective of this exercise was to highlight the simple, discrete linear dynamical system as an analysis tool. Although a simple linear regression, the tool enables identification of spatial modes (eigenvectors) exhibiting consistent temporal structure (eigenvalues), and may be expecially useful in cases where data is expected to be lower dimensional and exhibit predictable temporal structure. \n",
    "\n",
    "Given the recent emphasis on rotational dynamics in motor cortical datasets during stereotyped behaviors reported in literature, we dedicate the final section to \"reverse engineering\" what types of spatiotemporal patterns could produce similar features. We uncover that low frequency modes can be generated by oscillations with a phase offset (case 1) or monophasic or multiphasic sequences with specific temporal offsets (case 2). Case 1 seems like an unlikely strategy for the brain to employ during movement execution, and so we hypothesize that the structure underlying low frequency dynamics is likely sequential activations of neurons with a specific shapes and a distribution of temporal offsets."
   ]
  },
  {
   "cell_type": "code",
   "execution_count": 0,
   "metadata": {
    "colab": {},
    "colab_type": "code",
    "id": "-fr4JOYoTV5W"
   },
   "outputs": [],
   "source": []
  }
 ],
 "metadata": {
  "colab": {
   "collapsed_sections": [
    "3MttRyBRW8Bw",
    "IahHicPcUTR_",
    "HKxbQkR1odIb",
    "_bz14_I8owu5",
    "STHXaGSAilK3",
    "TiTgQGYckXEq",
    "fbUhiGucFJ4v",
    "lzfvU9efTVAI"
   ],
   "name": "Dynamics Tutorial",
   "provenance": []
  },
  "kernelspec": {
   "display_name": "Python 3",
   "language": "python",
   "name": "python3"
  },
  "language_info": {
   "codemirror_mode": {
    "name": "ipython",
    "version": 3
   },
   "file_extension": ".py",
   "mimetype": "text/x-python",
   "name": "python",
   "nbconvert_exporter": "python",
   "pygments_lexer": "ipython3",
   "version": "3.7.1"
  }
 },
 "nbformat": 4,
 "nbformat_minor": 1
}
